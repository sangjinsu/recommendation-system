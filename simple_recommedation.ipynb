{
  "nbformat": 4,
  "nbformat_minor": 0,
  "metadata": {
    "colab": {
      "name": "simple_recommedation.ipynb",
      "provenance": [],
      "collapsed_sections": [],
      "mount_file_id": "1Ns-TkF6MvkY4fGSyad9NffQKwVFW1wlW",
      "authorship_tag": "ABX9TyMdW6qQ3GQ5LI/tey4Gsc5c",
      "include_colab_link": true
    },
    "kernelspec": {
      "name": "python3",
      "display_name": "Python 3"
    },
    "language_info": {
      "name": "python"
    }
  },
  "cells": [
    {
      "cell_type": "markdown",
      "metadata": {
        "id": "view-in-github",
        "colab_type": "text"
      },
      "source": [
        "<a href=\"https://colab.research.google.com/github/sangjinsu/recommendation-system/blob/main/simple_recommedation.ipynb\" target=\"_parent\"><img src=\"https://colab.research.google.com/assets/colab-badge.svg\" alt=\"Open In Colab\"/></a>"
      ]
    },
    {
      "cell_type": "code",
      "metadata": {
        "id": "Rqsx-GfYUm0g"
      },
      "source": [
        "import pandas as pd"
      ],
      "execution_count": 1,
      "outputs": []
    },
    {
      "cell_type": "code",
      "metadata": {
        "colab": {
          "base_uri": "https://localhost:8080/",
          "height": 35
        },
        "id": "HL0HeFr6Utin",
        "outputId": "ea6569ab-82a3-4660-a768-5464e1e10494"
      },
      "source": [
        "pd.__version__"
      ],
      "execution_count": 2,
      "outputs": [
        {
          "output_type": "execute_result",
          "data": {
            "application/vnd.google.colaboratory.intrinsic+json": {
              "type": "string"
            },
            "text/plain": [
              "'1.1.5'"
            ]
          },
          "metadata": {},
          "execution_count": 2
        }
      ]
    },
    {
      "cell_type": "code",
      "metadata": {
        "id": "xYsXbatJUxLL"
      },
      "source": [
        "ratings = pd.read_pickle('/content/drive/MyDrive/추천 시스템 입문반/data/ml-latest-small/ratings_updated.p')"
      ],
      "execution_count": 3,
      "outputs": []
    },
    {
      "cell_type": "code",
      "metadata": {
        "colab": {
          "base_uri": "https://localhost:8080/",
          "height": 419
        },
        "id": "qH3ShSFJVyvE",
        "outputId": "4327075b-2b24-4323-ee63-5e23ee1adb5b"
      },
      "source": [
        "ratings"
      ],
      "execution_count": 4,
      "outputs": [
        {
          "output_type": "execute_result",
          "data": {
            "text/html": [
              "<div>\n",
              "<style scoped>\n",
              "    .dataframe tbody tr th:only-of-type {\n",
              "        vertical-align: middle;\n",
              "    }\n",
              "\n",
              "    .dataframe tbody tr th {\n",
              "        vertical-align: top;\n",
              "    }\n",
              "\n",
              "    .dataframe thead th {\n",
              "        text-align: right;\n",
              "    }\n",
              "</style>\n",
              "<table border=\"1\" class=\"dataframe\">\n",
              "  <thead>\n",
              "    <tr style=\"text-align: right;\">\n",
              "      <th></th>\n",
              "      <th>userId</th>\n",
              "      <th>movieId</th>\n",
              "      <th>rating</th>\n",
              "      <th>timestamp</th>\n",
              "    </tr>\n",
              "  </thead>\n",
              "  <tbody>\n",
              "    <tr>\n",
              "      <th>0</th>\n",
              "      <td>1</td>\n",
              "      <td>1</td>\n",
              "      <td>4.0</td>\n",
              "      <td>2000-07-30 18:45:03</td>\n",
              "    </tr>\n",
              "    <tr>\n",
              "      <th>1</th>\n",
              "      <td>1</td>\n",
              "      <td>3</td>\n",
              "      <td>4.0</td>\n",
              "      <td>2000-07-30 18:20:47</td>\n",
              "    </tr>\n",
              "    <tr>\n",
              "      <th>2</th>\n",
              "      <td>1</td>\n",
              "      <td>6</td>\n",
              "      <td>4.0</td>\n",
              "      <td>2000-07-30 18:37:04</td>\n",
              "    </tr>\n",
              "    <tr>\n",
              "      <th>3</th>\n",
              "      <td>1</td>\n",
              "      <td>47</td>\n",
              "      <td>5.0</td>\n",
              "      <td>2000-07-30 19:03:35</td>\n",
              "    </tr>\n",
              "    <tr>\n",
              "      <th>4</th>\n",
              "      <td>1</td>\n",
              "      <td>50</td>\n",
              "      <td>5.0</td>\n",
              "      <td>2000-07-30 18:48:51</td>\n",
              "    </tr>\n",
              "    <tr>\n",
              "      <th>...</th>\n",
              "      <td>...</td>\n",
              "      <td>...</td>\n",
              "      <td>...</td>\n",
              "      <td>...</td>\n",
              "    </tr>\n",
              "    <tr>\n",
              "      <th>100831</th>\n",
              "      <td>610</td>\n",
              "      <td>166534</td>\n",
              "      <td>4.0</td>\n",
              "      <td>2017-05-03 21:53:22</td>\n",
              "    </tr>\n",
              "    <tr>\n",
              "      <th>100832</th>\n",
              "      <td>610</td>\n",
              "      <td>168248</td>\n",
              "      <td>5.0</td>\n",
              "      <td>2017-05-03 22:21:31</td>\n",
              "    </tr>\n",
              "    <tr>\n",
              "      <th>100833</th>\n",
              "      <td>610</td>\n",
              "      <td>168250</td>\n",
              "      <td>5.0</td>\n",
              "      <td>2017-05-08 19:50:47</td>\n",
              "    </tr>\n",
              "    <tr>\n",
              "      <th>100834</th>\n",
              "      <td>610</td>\n",
              "      <td>168252</td>\n",
              "      <td>5.0</td>\n",
              "      <td>2017-05-03 21:19:12</td>\n",
              "    </tr>\n",
              "    <tr>\n",
              "      <th>100835</th>\n",
              "      <td>610</td>\n",
              "      <td>170875</td>\n",
              "      <td>3.0</td>\n",
              "      <td>2017-05-03 21:20:15</td>\n",
              "    </tr>\n",
              "  </tbody>\n",
              "</table>\n",
              "<p>100836 rows × 4 columns</p>\n",
              "</div>"
            ],
            "text/plain": [
              "        userId  movieId  rating           timestamp\n",
              "0            1        1     4.0 2000-07-30 18:45:03\n",
              "1            1        3     4.0 2000-07-30 18:20:47\n",
              "2            1        6     4.0 2000-07-30 18:37:04\n",
              "3            1       47     5.0 2000-07-30 19:03:35\n",
              "4            1       50     5.0 2000-07-30 18:48:51\n",
              "...        ...      ...     ...                 ...\n",
              "100831     610   166534     4.0 2017-05-03 21:53:22\n",
              "100832     610   168248     5.0 2017-05-03 22:21:31\n",
              "100833     610   168250     5.0 2017-05-08 19:50:47\n",
              "100834     610   168252     5.0 2017-05-03 21:19:12\n",
              "100835     610   170875     3.0 2017-05-03 21:20:15\n",
              "\n",
              "[100836 rows x 4 columns]"
            ]
          },
          "metadata": {},
          "execution_count": 4
        }
      ]
    },
    {
      "cell_type": "markdown",
      "metadata": {
        "id": "g2XVYoWIWSJO"
      },
      "source": [
        "## RMSE"
      ]
    },
    {
      "cell_type": "markdown",
      "metadata": {
        "id": "yJHqtOR3WR6k"
      },
      "source": [
        ""
      ]
    },
    {
      "cell_type": "code",
      "metadata": {
        "id": "uR2KN-PtWULS"
      },
      "source": [
        "rating_example = [[4, 3.5], [5, 5], [0.5, 1], [3, 5]]\n",
        "rating_example = pd.DataFrame(rating_example, columns=['Actual', 'Predict'])"
      ],
      "execution_count": 5,
      "outputs": []
    },
    {
      "cell_type": "code",
      "metadata": {
        "id": "g07rplNsWtBl"
      },
      "source": [
        "rating_example['error'] = rating_example['Actual'] - rating_example['Predict']"
      ],
      "execution_count": 6,
      "outputs": []
    },
    {
      "cell_type": "code",
      "metadata": {
        "colab": {
          "base_uri": "https://localhost:8080/",
          "height": 173
        },
        "id": "zd7d-1LsXHl_",
        "outputId": "2189f521-36e7-49bd-fcd1-d199cb5cfe43"
      },
      "source": [
        "rating_example"
      ],
      "execution_count": 7,
      "outputs": [
        {
          "output_type": "execute_result",
          "data": {
            "text/html": [
              "<div>\n",
              "<style scoped>\n",
              "    .dataframe tbody tr th:only-of-type {\n",
              "        vertical-align: middle;\n",
              "    }\n",
              "\n",
              "    .dataframe tbody tr th {\n",
              "        vertical-align: top;\n",
              "    }\n",
              "\n",
              "    .dataframe thead th {\n",
              "        text-align: right;\n",
              "    }\n",
              "</style>\n",
              "<table border=\"1\" class=\"dataframe\">\n",
              "  <thead>\n",
              "    <tr style=\"text-align: right;\">\n",
              "      <th></th>\n",
              "      <th>Actual</th>\n",
              "      <th>Predict</th>\n",
              "      <th>error</th>\n",
              "    </tr>\n",
              "  </thead>\n",
              "  <tbody>\n",
              "    <tr>\n",
              "      <th>0</th>\n",
              "      <td>4.0</td>\n",
              "      <td>3.5</td>\n",
              "      <td>0.5</td>\n",
              "    </tr>\n",
              "    <tr>\n",
              "      <th>1</th>\n",
              "      <td>5.0</td>\n",
              "      <td>5.0</td>\n",
              "      <td>0.0</td>\n",
              "    </tr>\n",
              "    <tr>\n",
              "      <th>2</th>\n",
              "      <td>0.5</td>\n",
              "      <td>1.0</td>\n",
              "      <td>-0.5</td>\n",
              "    </tr>\n",
              "    <tr>\n",
              "      <th>3</th>\n",
              "      <td>3.0</td>\n",
              "      <td>5.0</td>\n",
              "      <td>-2.0</td>\n",
              "    </tr>\n",
              "  </tbody>\n",
              "</table>\n",
              "</div>"
            ],
            "text/plain": [
              "   Actual  Predict  error\n",
              "0     4.0      3.5    0.5\n",
              "1     5.0      5.0    0.0\n",
              "2     0.5      1.0   -0.5\n",
              "3     3.0      5.0   -2.0"
            ]
          },
          "metadata": {},
          "execution_count": 7
        }
      ]
    },
    {
      "cell_type": "code",
      "metadata": {
        "id": "B-6umnD5XLmv"
      },
      "source": [
        "rating_example['squared error'] = rating_example['error'] ** 2"
      ],
      "execution_count": 8,
      "outputs": []
    },
    {
      "cell_type": "code",
      "metadata": {
        "colab": {
          "base_uri": "https://localhost:8080/",
          "height": 173
        },
        "id": "cHnn0mFDXT9s",
        "outputId": "7f3c322d-3c74-4f0b-b227-b1aea76e9d80"
      },
      "source": [
        "rating_example"
      ],
      "execution_count": 9,
      "outputs": [
        {
          "output_type": "execute_result",
          "data": {
            "text/html": [
              "<div>\n",
              "<style scoped>\n",
              "    .dataframe tbody tr th:only-of-type {\n",
              "        vertical-align: middle;\n",
              "    }\n",
              "\n",
              "    .dataframe tbody tr th {\n",
              "        vertical-align: top;\n",
              "    }\n",
              "\n",
              "    .dataframe thead th {\n",
              "        text-align: right;\n",
              "    }\n",
              "</style>\n",
              "<table border=\"1\" class=\"dataframe\">\n",
              "  <thead>\n",
              "    <tr style=\"text-align: right;\">\n",
              "      <th></th>\n",
              "      <th>Actual</th>\n",
              "      <th>Predict</th>\n",
              "      <th>error</th>\n",
              "      <th>squared error</th>\n",
              "    </tr>\n",
              "  </thead>\n",
              "  <tbody>\n",
              "    <tr>\n",
              "      <th>0</th>\n",
              "      <td>4.0</td>\n",
              "      <td>3.5</td>\n",
              "      <td>0.5</td>\n",
              "      <td>0.25</td>\n",
              "    </tr>\n",
              "    <tr>\n",
              "      <th>1</th>\n",
              "      <td>5.0</td>\n",
              "      <td>5.0</td>\n",
              "      <td>0.0</td>\n",
              "      <td>0.00</td>\n",
              "    </tr>\n",
              "    <tr>\n",
              "      <th>2</th>\n",
              "      <td>0.5</td>\n",
              "      <td>1.0</td>\n",
              "      <td>-0.5</td>\n",
              "      <td>0.25</td>\n",
              "    </tr>\n",
              "    <tr>\n",
              "      <th>3</th>\n",
              "      <td>3.0</td>\n",
              "      <td>5.0</td>\n",
              "      <td>-2.0</td>\n",
              "      <td>4.00</td>\n",
              "    </tr>\n",
              "  </tbody>\n",
              "</table>\n",
              "</div>"
            ],
            "text/plain": [
              "   Actual  Predict  error  squared error\n",
              "0     4.0      3.5    0.5           0.25\n",
              "1     5.0      5.0    0.0           0.00\n",
              "2     0.5      1.0   -0.5           0.25\n",
              "3     3.0      5.0   -2.0           4.00"
            ]
          },
          "metadata": {},
          "execution_count": 9
        }
      ]
    },
    {
      "cell_type": "code",
      "metadata": {
        "id": "kVOhPqKxXXG9"
      },
      "source": [
        "mse = rating_example['squared error'].mean()"
      ],
      "execution_count": 10,
      "outputs": []
    },
    {
      "cell_type": "code",
      "metadata": {
        "colab": {
          "base_uri": "https://localhost:8080/"
        },
        "id": "VXA8hEL6XdeN",
        "outputId": "95332651-1684-45e8-9e78-428863035067"
      },
      "source": [
        "mse"
      ],
      "execution_count": 11,
      "outputs": [
        {
          "output_type": "execute_result",
          "data": {
            "text/plain": [
              "1.125"
            ]
          },
          "metadata": {},
          "execution_count": 11
        }
      ]
    },
    {
      "cell_type": "code",
      "metadata": {
        "id": "rDtKFys8XgPx"
      },
      "source": [
        "import numpy as np"
      ],
      "execution_count": 12,
      "outputs": []
    },
    {
      "cell_type": "code",
      "metadata": {
        "colab": {
          "base_uri": "https://localhost:8080/"
        },
        "id": "T15UiLz6Xi1J",
        "outputId": "d7f862b7-d4f0-4a55-c1c2-773da9973207"
      },
      "source": [
        "rmse = np.sqrt(mse)\n",
        "print(rmse)"
      ],
      "execution_count": 13,
      "outputs": [
        {
          "output_type": "stream",
          "name": "stdout",
          "text": [
            "1.0606601717798212\n"
          ]
        }
      ]
    },
    {
      "cell_type": "markdown",
      "metadata": {
        "id": "DHQ3uRO9XoXI"
      },
      "source": [
        "### RMSE with sklearn"
      ]
    },
    {
      "cell_type": "code",
      "metadata": {
        "id": "csZQ_f54Xs_I"
      },
      "source": [
        "from sklearn.metrics import mean_squared_error"
      ],
      "execution_count": 14,
      "outputs": []
    },
    {
      "cell_type": "code",
      "metadata": {
        "colab": {
          "base_uri": "https://localhost:8080/"
        },
        "id": "8eJfUd7uX6g7",
        "outputId": "f57572ba-6746-4558-caf2-2e564d88b0eb"
      },
      "source": [
        "mean_squared_error(rating_example['Actual'], rating_example['Predict'])\n",
        "rmse = np.sqrt(mse)\n",
        "rmse"
      ],
      "execution_count": 19,
      "outputs": [
        {
          "output_type": "execute_result",
          "data": {
            "text/plain": [
              "1.0606601717798212"
            ]
          },
          "metadata": {},
          "execution_count": 19
        }
      ]
    },
    {
      "cell_type": "markdown",
      "metadata": {
        "id": "dpMi1qAFYNc_"
      },
      "source": [
        "## Train Test Split"
      ]
    },
    {
      "cell_type": "code",
      "metadata": {
        "id": "c54E1kuMYNCd"
      },
      "source": [
        "from sklearn.model_selection import train_test_split"
      ],
      "execution_count": 16,
      "outputs": []
    },
    {
      "cell_type": "code",
      "metadata": {
        "id": "WCo4bDICYeIu"
      },
      "source": [
        "train, test = train_test_split(ratings, random_state=42, test_size=0.1)"
      ],
      "execution_count": 17,
      "outputs": []
    },
    {
      "cell_type": "code",
      "metadata": {
        "id": "86YsdJkrYw1p",
        "colab": {
          "base_uri": "https://localhost:8080/"
        },
        "outputId": "245e6604-f781-49eb-f98d-cf2518a9c6bd"
      },
      "source": [
        "print(train.shape)\n",
        "print(test.shape)"
      ],
      "execution_count": 18,
      "outputs": [
        {
          "output_type": "stream",
          "name": "stdout",
          "text": [
            "(90752, 4)\n",
            "(10084, 4)\n"
          ]
        }
      ]
    },
    {
      "cell_type": "markdown",
      "metadata": {
        "id": "QbJcs46X9my3"
      },
      "source": [
        "### 가장 간단한 예측하기 "
      ]
    },
    {
      "cell_type": "code",
      "metadata": {
        "id": "Mk368d7q9plP"
      },
      "source": [
        "predictions = [.5] * len(test)"
      ],
      "execution_count": 20,
      "outputs": []
    },
    {
      "cell_type": "code",
      "metadata": {
        "colab": {
          "base_uri": "https://localhost:8080/",
          "height": 419
        },
        "id": "VjPIsnmd-J08",
        "outputId": "56fb1f9d-28de-4be4-f99c-d6873b8fb355"
      },
      "source": [
        "test"
      ],
      "execution_count": 24,
      "outputs": [
        {
          "output_type": "execute_result",
          "data": {
            "text/html": [
              "<div>\n",
              "<style scoped>\n",
              "    .dataframe tbody tr th:only-of-type {\n",
              "        vertical-align: middle;\n",
              "    }\n",
              "\n",
              "    .dataframe tbody tr th {\n",
              "        vertical-align: top;\n",
              "    }\n",
              "\n",
              "    .dataframe thead th {\n",
              "        text-align: right;\n",
              "    }\n",
              "</style>\n",
              "<table border=\"1\" class=\"dataframe\">\n",
              "  <thead>\n",
              "    <tr style=\"text-align: right;\">\n",
              "      <th></th>\n",
              "      <th>userId</th>\n",
              "      <th>movieId</th>\n",
              "      <th>rating</th>\n",
              "      <th>timestamp</th>\n",
              "    </tr>\n",
              "  </thead>\n",
              "  <tbody>\n",
              "    <tr>\n",
              "      <th>67037</th>\n",
              "      <td>432</td>\n",
              "      <td>77866</td>\n",
              "      <td>4.5</td>\n",
              "      <td>2012-04-23 00:07:21</td>\n",
              "    </tr>\n",
              "    <tr>\n",
              "      <th>42175</th>\n",
              "      <td>288</td>\n",
              "      <td>474</td>\n",
              "      <td>3.0</td>\n",
              "      <td>2001-01-02 19:59:25</td>\n",
              "    </tr>\n",
              "    <tr>\n",
              "      <th>93850</th>\n",
              "      <td>599</td>\n",
              "      <td>4351</td>\n",
              "      <td>3.0</td>\n",
              "      <td>2017-06-27 00:49:02</td>\n",
              "    </tr>\n",
              "    <tr>\n",
              "      <th>6187</th>\n",
              "      <td>42</td>\n",
              "      <td>2987</td>\n",
              "      <td>4.0</td>\n",
              "      <td>2001-07-27 19:37:57</td>\n",
              "    </tr>\n",
              "    <tr>\n",
              "      <th>12229</th>\n",
              "      <td>75</td>\n",
              "      <td>1610</td>\n",
              "      <td>4.0</td>\n",
              "      <td>2006-09-23 05:37:21</td>\n",
              "    </tr>\n",
              "    <tr>\n",
              "      <th>...</th>\n",
              "      <td>...</td>\n",
              "      <td>...</td>\n",
              "      <td>...</td>\n",
              "      <td>...</td>\n",
              "    </tr>\n",
              "    <tr>\n",
              "      <th>52065</th>\n",
              "      <td>339</td>\n",
              "      <td>1580</td>\n",
              "      <td>2.0</td>\n",
              "      <td>2016-04-09 06:14:15</td>\n",
              "    </tr>\n",
              "    <tr>\n",
              "      <th>92269</th>\n",
              "      <td>597</td>\n",
              "      <td>1090</td>\n",
              "      <td>5.0</td>\n",
              "      <td>1999-11-03 14:29:59</td>\n",
              "    </tr>\n",
              "    <tr>\n",
              "      <th>18346</th>\n",
              "      <td>116</td>\n",
              "      <td>30749</td>\n",
              "      <td>4.5</td>\n",
              "      <td>2012-05-16 20:18:55</td>\n",
              "    </tr>\n",
              "    <tr>\n",
              "      <th>17425</th>\n",
              "      <td>111</td>\n",
              "      <td>5025</td>\n",
              "      <td>3.0</td>\n",
              "      <td>2018-01-16 22:28:11</td>\n",
              "    </tr>\n",
              "    <tr>\n",
              "      <th>76059</th>\n",
              "      <td>479</td>\n",
              "      <td>351</td>\n",
              "      <td>2.0</td>\n",
              "      <td>2002-12-08 15:17:03</td>\n",
              "    </tr>\n",
              "  </tbody>\n",
              "</table>\n",
              "<p>10084 rows × 4 columns</p>\n",
              "</div>"
            ],
            "text/plain": [
              "       userId  movieId  rating           timestamp\n",
              "67037     432    77866     4.5 2012-04-23 00:07:21\n",
              "42175     288      474     3.0 2001-01-02 19:59:25\n",
              "93850     599     4351     3.0 2017-06-27 00:49:02\n",
              "6187       42     2987     4.0 2001-07-27 19:37:57\n",
              "12229      75     1610     4.0 2006-09-23 05:37:21\n",
              "...       ...      ...     ...                 ...\n",
              "52065     339     1580     2.0 2016-04-09 06:14:15\n",
              "92269     597     1090     5.0 1999-11-03 14:29:59\n",
              "18346     116    30749     4.5 2012-05-16 20:18:55\n",
              "17425     111     5025     3.0 2018-01-16 22:28:11\n",
              "76059     479      351     2.0 2002-12-08 15:17:03\n",
              "\n",
              "[10084 rows x 4 columns]"
            ]
          },
          "metadata": {},
          "execution_count": 24
        }
      ]
    },
    {
      "cell_type": "code",
      "metadata": {
        "colab": {
          "base_uri": "https://localhost:8080/"
        },
        "id": "ChD439CW92DS",
        "outputId": "145ddf01-b186-4a41-d554-100a87a9e5c8"
      },
      "source": [
        "mse = mean_squared_error(test['rating'], predictions)\n",
        "rmse = np.sqrt(mse)\n",
        "rmse"
      ],
      "execution_count": 23,
      "outputs": [
        {
          "output_type": "execute_result",
          "data": {
            "text/plain": [
              "3.171608981312971"
            ]
          },
          "metadata": {},
          "execution_count": 23
        }
      ]
    },
    {
      "cell_type": "markdown",
      "metadata": {
        "id": "ugOH0W1m-Vl-"
      },
      "source": [
        "#### 모두 5점으로 예측하기"
      ]
    },
    {
      "cell_type": "code",
      "metadata": {
        "id": "Z3cc9pwD-ZAp"
      },
      "source": [
        "predictions = [5] * len(test)"
      ],
      "execution_count": 26,
      "outputs": []
    },
    {
      "cell_type": "code",
      "metadata": {
        "colab": {
          "base_uri": "https://localhost:8080/"
        },
        "id": "LlNXfOHc-bSi",
        "outputId": "38ac9f37-7b70-46ed-dc3d-ce8942a6c583"
      },
      "source": [
        "mse = mean_squared_error(test['rating'], predictions)\n",
        "rmse = np.sqrt(mse)\n",
        "rmse"
      ],
      "execution_count": 33,
      "outputs": [
        {
          "output_type": "execute_result",
          "data": {
            "text/plain": [
              "1.050558595377035"
            ]
          },
          "metadata": {},
          "execution_count": 33
        }
      ]
    },
    {
      "cell_type": "markdown",
      "metadata": {
        "id": "MMrCdHmO-hlD"
      },
      "source": [
        "#### 데이터 평균으로 예측하기"
      ]
    },
    {
      "cell_type": "code",
      "metadata": {
        "id": "dYNhLjDZ-cug"
      },
      "source": [
        "predictions = [train['rating'].mean()] * len(test)"
      ],
      "execution_count": 35,
      "outputs": []
    },
    {
      "cell_type": "code",
      "metadata": {
        "colab": {
          "base_uri": "https://localhost:8080/"
        },
        "id": "Xpf-JaHe-8IZ",
        "outputId": "2faec8af-8b49-44aa-c373-62875ddaddf1"
      },
      "source": [
        "mse = mean_squared_error(test['rating'], predictions)\n",
        "rmse = np.sqrt(mse)\n",
        "rmse"
      ],
      "execution_count": 36,
      "outputs": [
        {
          "output_type": "execute_result",
          "data": {
            "text/plain": [
              "1.0506061303851641"
            ]
          },
          "metadata": {},
          "execution_count": 36
        }
      ]
    },
    {
      "cell_type": "markdown",
      "metadata": {
        "id": "B0pF3gkq-_T0"
      },
      "source": [
        "#### 사용자 평점 기반 예측하기 "
      ]
    },
    {
      "cell_type": "code",
      "metadata": {
        "id": "OtlR6OSf_Cle"
      },
      "source": [
        "users = train.groupby('userId')['rating'].mean().reset_index()"
      ],
      "execution_count": 48,
      "outputs": []
    },
    {
      "cell_type": "code",
      "metadata": {
        "colab": {
          "base_uri": "https://localhost:8080/",
          "height": 80
        },
        "id": "1J8tEwkAHT0B",
        "outputId": "5fa41717-3867-4d54-c522-ecdaebce0b76"
      },
      "source": [
        "users = users.rename(columns={'rating': 'predict'})\n",
        "users[:1]"
      ],
      "execution_count": 49,
      "outputs": [
        {
          "output_type": "execute_result",
          "data": {
            "text/html": [
              "<div>\n",
              "<style scoped>\n",
              "    .dataframe tbody tr th:only-of-type {\n",
              "        vertical-align: middle;\n",
              "    }\n",
              "\n",
              "    .dataframe tbody tr th {\n",
              "        vertical-align: top;\n",
              "    }\n",
              "\n",
              "    .dataframe thead th {\n",
              "        text-align: right;\n",
              "    }\n",
              "</style>\n",
              "<table border=\"1\" class=\"dataframe\">\n",
              "  <thead>\n",
              "    <tr style=\"text-align: right;\">\n",
              "      <th></th>\n",
              "      <th>userId</th>\n",
              "      <th>predict</th>\n",
              "    </tr>\n",
              "  </thead>\n",
              "  <tbody>\n",
              "    <tr>\n",
              "      <th>0</th>\n",
              "      <td>1</td>\n",
              "      <td>4.333333</td>\n",
              "    </tr>\n",
              "  </tbody>\n",
              "</table>\n",
              "</div>"
            ],
            "text/plain": [
              "   userId   predict\n",
              "0       1  4.333333"
            ]
          },
          "metadata": {},
          "execution_count": 49
        }
      ]
    },
    {
      "cell_type": "code",
      "metadata": {
        "id": "e08xAnIcIttq"
      },
      "source": [
        "predict_by_users = test.merge(users, how='left', on='userId')"
      ],
      "execution_count": 51,
      "outputs": []
    },
    {
      "cell_type": "code",
      "metadata": {
        "colab": {
          "base_uri": "https://localhost:8080/"
        },
        "id": "caiX_Dq7Lhu6",
        "outputId": "383ed5bb-8c6e-4145-86b7-02388458e810"
      },
      "source": [
        "predict_by_users.isnull().sum()"
      ],
      "execution_count": 52,
      "outputs": [
        {
          "output_type": "execute_result",
          "data": {
            "text/plain": [
              "userId       0\n",
              "movieId      0\n",
              "rating       0\n",
              "timestamp    0\n",
              "predict      0\n",
              "dtype: int64"
            ]
          },
          "metadata": {},
          "execution_count": 52
        }
      ]
    },
    {
      "cell_type": "code",
      "metadata": {
        "colab": {
          "base_uri": "https://localhost:8080/"
        },
        "id": "E4q7k_K0L6bY",
        "outputId": "90c128cc-9b2f-4736-df6b-e34494b6548f"
      },
      "source": [
        "mse = mean_squared_error(predict_by_users['rating'], predict_by_users['predict'])\n",
        "rmse = np.sqrt(mse)\n",
        "rmse"
      ],
      "execution_count": 54,
      "outputs": [
        {
          "output_type": "execute_result",
          "data": {
            "text/plain": [
              "0.9562813211891107"
            ]
          },
          "metadata": {},
          "execution_count": 54
        }
      ]
    },
    {
      "cell_type": "markdown",
      "metadata": {
        "id": "tMaTYwmfMNgN"
      },
      "source": [
        "#### 예측근거"
      ]
    },
    {
      "cell_type": "code",
      "metadata": {
        "colab": {
          "base_uri": "https://localhost:8080/"
        },
        "id": "zxkC5vm8MQZ5",
        "outputId": "8aa05e68-93c1-498f-a39e-b5a4fcd9031e"
      },
      "source": [
        "train['rating'].std()"
      ],
      "execution_count": 55,
      "outputs": [
        {
          "output_type": "execute_result",
          "data": {
            "text/plain": [
              "1.041628423785722"
            ]
          },
          "metadata": {},
          "execution_count": 55
        }
      ]
    },
    {
      "cell_type": "code",
      "metadata": {
        "colab": {
          "base_uri": "https://localhost:8080/",
          "height": 283
        },
        "id": "MQQIAHBIMXjP",
        "outputId": "91c7770a-0cde-4efe-88ac-414e7074c2b4"
      },
      "source": [
        "train.groupby('userId')['rating'].std().hist()"
      ],
      "execution_count": 58,
      "outputs": [
        {
          "output_type": "execute_result",
          "data": {
            "text/plain": [
              "<matplotlib.axes._subplots.AxesSubplot at 0x7fbfe186cd10>"
            ]
          },
          "metadata": {},
          "execution_count": 58
        },
        {
          "output_type": "display_data",
          "data": {
            "image/png": "[encoded data removed]",
            "text/plain": [
              "<Figure size 432x288 with 1 Axes>"
            ]
          },
          "metadata": {
            "needs_background": "light"
          }
        }
      ]
    },
    {
      "cell_type": "code",
      "metadata": {
        "colab": {
          "base_uri": "https://localhost:8080/",
          "height": 419
        },
        "id": "U8DlVXGmMXE1",
        "outputId": "11991acd-a06d-42e2-ddfd-c0db3f4fcd38"
      },
      "source": [
        ""
      ],
      "execution_count": 57,
      "outputs": [
        {
          "output_type": "execute_result",
          "data": {
            "text/html": [
              "<div>\n",
              "<style scoped>\n",
              "    .dataframe tbody tr th:only-of-type {\n",
              "        vertical-align: middle;\n",
              "    }\n",
              "\n",
              "    .dataframe tbody tr th {\n",
              "        vertical-align: top;\n",
              "    }\n",
              "\n",
              "    .dataframe thead th {\n",
              "        text-align: right;\n",
              "    }\n",
              "</style>\n",
              "<table border=\"1\" class=\"dataframe\">\n",
              "  <thead>\n",
              "    <tr style=\"text-align: right;\">\n",
              "      <th></th>\n",
              "      <th>userId</th>\n",
              "      <th>movieId</th>\n",
              "      <th>rating</th>\n",
              "      <th>timestamp</th>\n",
              "    </tr>\n",
              "  </thead>\n",
              "  <tbody>\n",
              "    <tr>\n",
              "      <th>14430</th>\n",
              "      <td>91</td>\n",
              "      <td>2431</td>\n",
              "      <td>2.0</td>\n",
              "      <td>2005-04-05 15:58:44</td>\n",
              "    </tr>\n",
              "    <tr>\n",
              "      <th>43498</th>\n",
              "      <td>292</td>\n",
              "      <td>111</td>\n",
              "      <td>2.0</td>\n",
              "      <td>2010-02-09 01:49:19</td>\n",
              "    </tr>\n",
              "    <tr>\n",
              "      <th>73590</th>\n",
              "      <td>474</td>\n",
              "      <td>1784</td>\n",
              "      <td>3.5</td>\n",
              "      <td>2003-05-15 17:57:35</td>\n",
              "    </tr>\n",
              "    <tr>\n",
              "      <th>19181</th>\n",
              "      <td>124</td>\n",
              "      <td>110</td>\n",
              "      <td>3.5</td>\n",
              "      <td>2012-05-09 17:25:26</td>\n",
              "    </tr>\n",
              "    <tr>\n",
              "      <th>97254</th>\n",
              "      <td>605</td>\n",
              "      <td>4899</td>\n",
              "      <td>2.5</td>\n",
              "      <td>2010-06-22 03:21:21</td>\n",
              "    </tr>\n",
              "    <tr>\n",
              "      <th>...</th>\n",
              "      <td>...</td>\n",
              "      <td>...</td>\n",
              "      <td>...</td>\n",
              "      <td>...</td>\n",
              "    </tr>\n",
              "    <tr>\n",
              "      <th>6265</th>\n",
              "      <td>42</td>\n",
              "      <td>4005</td>\n",
              "      <td>4.0</td>\n",
              "      <td>2001-07-27 18:37:39</td>\n",
              "    </tr>\n",
              "    <tr>\n",
              "      <th>54886</th>\n",
              "      <td>364</td>\n",
              "      <td>141</td>\n",
              "      <td>4.0</td>\n",
              "      <td>1997-07-21 00:02:47</td>\n",
              "    </tr>\n",
              "    <tr>\n",
              "      <th>76820</th>\n",
              "      <td>480</td>\n",
              "      <td>6867</td>\n",
              "      <td>4.0</td>\n",
              "      <td>2007-05-14 17:19:31</td>\n",
              "    </tr>\n",
              "    <tr>\n",
              "      <th>860</th>\n",
              "      <td>6</td>\n",
              "      <td>981</td>\n",
              "      <td>3.0</td>\n",
              "      <td>1996-10-17 12:49:27</td>\n",
              "    </tr>\n",
              "    <tr>\n",
              "      <th>15795</th>\n",
              "      <td>103</td>\n",
              "      <td>6711</td>\n",
              "      <td>5.0</td>\n",
              "      <td>2015-05-18 13:57:05</td>\n",
              "    </tr>\n",
              "  </tbody>\n",
              "</table>\n",
              "<p>90752 rows × 4 columns</p>\n",
              "</div>"
            ],
            "text/plain": [
              "       userId  movieId  rating           timestamp\n",
              "14430      91     2431     2.0 2005-04-05 15:58:44\n",
              "43498     292      111     2.0 2010-02-09 01:49:19\n",
              "73590     474     1784     3.5 2003-05-15 17:57:35\n",
              "19181     124      110     3.5 2012-05-09 17:25:26\n",
              "97254     605     4899     2.5 2010-06-22 03:21:21\n",
              "...       ...      ...     ...                 ...\n",
              "6265       42     4005     4.0 2001-07-27 18:37:39\n",
              "54886     364      141     4.0 1997-07-21 00:02:47\n",
              "76820     480     6867     4.0 2007-05-14 17:19:31\n",
              "860         6      981     3.0 1996-10-17 12:49:27\n",
              "15795     103     6711     5.0 2015-05-18 13:57:05\n",
              "\n",
              "[90752 rows x 4 columns]"
            ]
          },
          "metadata": {},
          "execution_count": 57
        }
      ]
    },
    {
      "cell_type": "markdown",
      "metadata": {
        "id": "O0xH1LQ9OYcq"
      },
      "source": [
        "#### 영화 평점 기반 예측하기"
      ]
    },
    {
      "cell_type": "code",
      "metadata": {
        "colab": {
          "base_uri": "https://localhost:8080/",
          "height": 80
        },
        "id": "sOlqOZcEOPxs",
        "outputId": "d267a453-86c9-4f06-cf7a-c02435a62e21"
      },
      "source": [
        "movies = train.groupby('movieId')['rating'].mean().reset_index()\n",
        "movies = movies.rename(columns={'rating':'predict'})\n",
        "movies[:1]"
      ],
      "execution_count": 59,
      "outputs": [
        {
          "output_type": "execute_result",
          "data": {
            "text/html": [
              "<div>\n",
              "<style scoped>\n",
              "    .dataframe tbody tr th:only-of-type {\n",
              "        vertical-align: middle;\n",
              "    }\n",
              "\n",
              "    .dataframe tbody tr th {\n",
              "        vertical-align: top;\n",
              "    }\n",
              "\n",
              "    .dataframe thead th {\n",
              "        text-align: right;\n",
              "    }\n",
              "</style>\n",
              "<table border=\"1\" class=\"dataframe\">\n",
              "  <thead>\n",
              "    <tr style=\"text-align: right;\">\n",
              "      <th></th>\n",
              "      <th>movieId</th>\n",
              "      <th>predict</th>\n",
              "    </tr>\n",
              "  </thead>\n",
              "  <tbody>\n",
              "    <tr>\n",
              "      <th>0</th>\n",
              "      <td>1</td>\n",
              "      <td>3.902564</td>\n",
              "    </tr>\n",
              "  </tbody>\n",
              "</table>\n",
              "</div>"
            ],
            "text/plain": [
              "   movieId   predict\n",
              "0        1  3.902564"
            ]
          },
          "metadata": {},
          "execution_count": 59
        }
      ]
    },
    {
      "cell_type": "code",
      "metadata": {
        "colab": {
          "base_uri": "https://localhost:8080/",
          "height": 80
        },
        "id": "X3zuFIzGOXH6",
        "outputId": "b138125e-e51f-4ea5-9ca1-a37ab43b013d"
      },
      "source": [
        "predict_by_movies = test.merge(movies, how='left', on='movieId')\n",
        "predict_by_movies.sample()"
      ],
      "execution_count": 61,
      "outputs": [
        {
          "output_type": "execute_result",
          "data": {
            "text/html": [
              "<div>\n",
              "<style scoped>\n",
              "    .dataframe tbody tr th:only-of-type {\n",
              "        vertical-align: middle;\n",
              "    }\n",
              "\n",
              "    .dataframe tbody tr th {\n",
              "        vertical-align: top;\n",
              "    }\n",
              "\n",
              "    .dataframe thead th {\n",
              "        text-align: right;\n",
              "    }\n",
              "</style>\n",
              "<table border=\"1\" class=\"dataframe\">\n",
              "  <thead>\n",
              "    <tr style=\"text-align: right;\">\n",
              "      <th></th>\n",
              "      <th>userId</th>\n",
              "      <th>movieId</th>\n",
              "      <th>rating</th>\n",
              "      <th>timestamp</th>\n",
              "      <th>predict</th>\n",
              "    </tr>\n",
              "  </thead>\n",
              "  <tbody>\n",
              "    <tr>\n",
              "      <th>6069</th>\n",
              "      <td>376</td>\n",
              "      <td>33794</td>\n",
              "      <td>4.0</td>\n",
              "      <td>2013-04-03 13:10:43</td>\n",
              "      <td>3.811881</td>\n",
              "    </tr>\n",
              "  </tbody>\n",
              "</table>\n",
              "</div>"
            ],
            "text/plain": [
              "      userId  movieId  rating           timestamp   predict\n",
              "6069     376    33794     4.0 2013-04-03 13:10:43  3.811881"
            ]
          },
          "metadata": {},
          "execution_count": 61
        }
      ]
    },
    {
      "cell_type": "code",
      "metadata": {
        "id": "G5JbTc-rO0bW"
      },
      "source": [
        "predict_by_movies.loc[predict_by_movies['predict'].isnull(), 'predict'] = train['rating'].mean()"
      ],
      "execution_count": 66,
      "outputs": []
    },
    {
      "cell_type": "code",
      "metadata": {
        "colab": {
          "base_uri": "https://localhost:8080/"
        },
        "id": "d596Hps1QLbx",
        "outputId": "a7826f52-acf4-4614-805e-ebddb846402d"
      },
      "source": [
        "mse = mean_squared_error(predict_by_movies['rating'], predict_by_movies['predict'])\n",
        "rmse = np.sqrt(mse)\n",
        "rmse"
      ],
      "execution_count": 68,
      "outputs": [
        {
          "output_type": "execute_result",
          "data": {
            "text/plain": [
              "0.9825183061091307"
            ]
          },
          "metadata": {},
          "execution_count": 68
        }
      ]
    }
  ]
}