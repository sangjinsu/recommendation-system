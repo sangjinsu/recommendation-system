{
  "nbformat": 4,
  "nbformat_minor": 0,
  "metadata": {
    "colab": {
      "name": "1.movies.ipynb",
      "provenance": [],
      "mount_file_id": "1thWNhqsZU77c0DFW-7F2knC0c7ijt91V",
      "authorship_tag": "ABX9TyO3lsgaqfYMCOgnPpRibUx8",
      "include_colab_link": true
    },
    "kernelspec": {
      "name": "python3",
      "display_name": "Python 3"
    },
    "language_info": {
      "name": "python"
    }
  },
  "cells": [
    {
      "cell_type": "markdown",
      "metadata": {
        "id": "view-in-github",
        "colab_type": "text"
      },
      "source": [
        "<a href=\"https://colab.research.google.com/github/sangjinsu/recommendation-system/blob/main/1_movies.ipynb\" target=\"_parent\"><img src=\"https://colab.research.google.com/assets/colab-badge.svg\" alt=\"Open In Colab\"/></a>"
      ]
    },
    {
      "cell_type": "code",
      "metadata": {
        "id": "fBNlTg5JWAow"
      },
      "source": [
        "import pandas as pd"
      ],
      "execution_count": 95,
      "outputs": []
    },
    {
      "cell_type": "code",
      "metadata": {
        "colab": {
          "base_uri": "https://localhost:8080/",
          "height": 35
        },
        "id": "_pNVnqW1WL8k",
        "outputId": "288c538f-dbfa-4ed2-cd9c-d5ef8858db33"
      },
      "source": [
        "pd.__version__"
      ],
      "execution_count": 96,
      "outputs": [
        {
          "output_type": "execute_result",
          "data": {
            "application/vnd.google.colaboratory.intrinsic+json": {
              "type": "string"
            },
            "text/plain": [
              "'1.1.5'"
            ]
          },
          "metadata": {},
          "execution_count": 96
        }
      ]
    },
    {
      "cell_type": "markdown",
      "metadata": {
        "id": "fp_h3tWYXGSn"
      },
      "source": [
        "# Read Data"
      ]
    },
    {
      "cell_type": "code",
      "metadata": {
        "id": "jQf9LawjXBGM"
      },
      "source": [
        "movies = pd.read_csv('/content/drive/MyDrive/추천 시스템 입문반/data/ml-latest-small/movies.csv', index_col='movieId')"
      ],
      "execution_count": 97,
      "outputs": []
    },
    {
      "cell_type": "code",
      "metadata": {
        "colab": {
          "base_uri": "https://localhost:8080/"
        },
        "id": "CKDkgUDEXuY1",
        "outputId": "414d78ad-c119-41c8-87a3-d54a1a121772"
      },
      "source": [
        "movies.shape"
      ],
      "execution_count": 98,
      "outputs": [
        {
          "output_type": "execute_result",
          "data": {
            "text/plain": [
              "(9742, 2)"
            ]
          },
          "metadata": {},
          "execution_count": 98
        }
      ]
    },
    {
      "cell_type": "code",
      "metadata": {
        "colab": {
          "base_uri": "https://localhost:8080/",
          "height": 235
        },
        "id": "6zf-MMtHX7SK",
        "outputId": "1af9bb7f-8536-4cae-fb29-7a0b60cf5115"
      },
      "source": [
        "movies.head()"
      ],
      "execution_count": 99,
      "outputs": [
        {
          "output_type": "execute_result",
          "data": {
            "text/html": [
              "<div>\n",
              "<style scoped>\n",
              "    .dataframe tbody tr th:only-of-type {\n",
              "        vertical-align: middle;\n",
              "    }\n",
              "\n",
              "    .dataframe tbody tr th {\n",
              "        vertical-align: top;\n",
              "    }\n",
              "\n",
              "    .dataframe thead th {\n",
              "        text-align: right;\n",
              "    }\n",
              "</style>\n",
              "<table border=\"1\" class=\"dataframe\">\n",
              "  <thead>\n",
              "    <tr style=\"text-align: right;\">\n",
              "      <th></th>\n",
              "      <th>title</th>\n",
              "      <th>genres</th>\n",
              "    </tr>\n",
              "    <tr>\n",
              "      <th>movieId</th>\n",
              "      <th></th>\n",
              "      <th></th>\n",
              "    </tr>\n",
              "  </thead>\n",
              "  <tbody>\n",
              "    <tr>\n",
              "      <th>1</th>\n",
              "      <td>Toy Story (1995)</td>\n",
              "      <td>Adventure|Animation|Children|Comedy|Fantasy</td>\n",
              "    </tr>\n",
              "    <tr>\n",
              "      <th>2</th>\n",
              "      <td>Jumanji (1995)</td>\n",
              "      <td>Adventure|Children|Fantasy</td>\n",
              "    </tr>\n",
              "    <tr>\n",
              "      <th>3</th>\n",
              "      <td>Grumpier Old Men (1995)</td>\n",
              "      <td>Comedy|Romance</td>\n",
              "    </tr>\n",
              "    <tr>\n",
              "      <th>4</th>\n",
              "      <td>Waiting to Exhale (1995)</td>\n",
              "      <td>Comedy|Drama|Romance</td>\n",
              "    </tr>\n",
              "    <tr>\n",
              "      <th>5</th>\n",
              "      <td>Father of the Bride Part II (1995)</td>\n",
              "      <td>Comedy</td>\n",
              "    </tr>\n",
              "  </tbody>\n",
              "</table>\n",
              "</div>"
            ],
            "text/plain": [
              "                                      title                                       genres\n",
              "movieId                                                                                 \n",
              "1                          Toy Story (1995)  Adventure|Animation|Children|Comedy|Fantasy\n",
              "2                            Jumanji (1995)                   Adventure|Children|Fantasy\n",
              "3                   Grumpier Old Men (1995)                               Comedy|Romance\n",
              "4                  Waiting to Exhale (1995)                         Comedy|Drama|Romance\n",
              "5        Father of the Bride Part II (1995)                                       Comedy"
            ]
          },
          "metadata": {},
          "execution_count": 99
        }
      ]
    },
    {
      "cell_type": "code",
      "metadata": {
        "colab": {
          "base_uri": "https://localhost:8080/",
          "height": 235
        },
        "id": "B_xIBzXjX-z3",
        "outputId": "1b0204ac-b940-4971-c134-05ce994fc034"
      },
      "source": [
        "movies.tail()"
      ],
      "execution_count": 100,
      "outputs": [
        {
          "output_type": "execute_result",
          "data": {
            "text/html": [
              "<div>\n",
              "<style scoped>\n",
              "    .dataframe tbody tr th:only-of-type {\n",
              "        vertical-align: middle;\n",
              "    }\n",
              "\n",
              "    .dataframe tbody tr th {\n",
              "        vertical-align: top;\n",
              "    }\n",
              "\n",
              "    .dataframe thead th {\n",
              "        text-align: right;\n",
              "    }\n",
              "</style>\n",
              "<table border=\"1\" class=\"dataframe\">\n",
              "  <thead>\n",
              "    <tr style=\"text-align: right;\">\n",
              "      <th></th>\n",
              "      <th>title</th>\n",
              "      <th>genres</th>\n",
              "    </tr>\n",
              "    <tr>\n",
              "      <th>movieId</th>\n",
              "      <th></th>\n",
              "      <th></th>\n",
              "    </tr>\n",
              "  </thead>\n",
              "  <tbody>\n",
              "    <tr>\n",
              "      <th>193581</th>\n",
              "      <td>Black Butler: Book of the Atlantic (2017)</td>\n",
              "      <td>Action|Animation|Comedy|Fantasy</td>\n",
              "    </tr>\n",
              "    <tr>\n",
              "      <th>193583</th>\n",
              "      <td>No Game No Life: Zero (2017)</td>\n",
              "      <td>Animation|Comedy|Fantasy</td>\n",
              "    </tr>\n",
              "    <tr>\n",
              "      <th>193585</th>\n",
              "      <td>Flint (2017)</td>\n",
              "      <td>Drama</td>\n",
              "    </tr>\n",
              "    <tr>\n",
              "      <th>193587</th>\n",
              "      <td>Bungo Stray Dogs: Dead Apple (2018)</td>\n",
              "      <td>Action|Animation</td>\n",
              "    </tr>\n",
              "    <tr>\n",
              "      <th>193609</th>\n",
              "      <td>Andrew Dice Clay: Dice Rules (1991)</td>\n",
              "      <td>Comedy</td>\n",
              "    </tr>\n",
              "  </tbody>\n",
              "</table>\n",
              "</div>"
            ],
            "text/plain": [
              "                                             title                           genres\n",
              "movieId                                                                            \n",
              "193581   Black Butler: Book of the Atlantic (2017)  Action|Animation|Comedy|Fantasy\n",
              "193583                No Game No Life: Zero (2017)         Animation|Comedy|Fantasy\n",
              "193585                                Flint (2017)                            Drama\n",
              "193587         Bungo Stray Dogs: Dead Apple (2018)                 Action|Animation\n",
              "193609         Andrew Dice Clay: Dice Rules (1991)                           Comedy"
            ]
          },
          "metadata": {},
          "execution_count": 100
        }
      ]
    },
    {
      "cell_type": "code",
      "metadata": {
        "colab": {
          "base_uri": "https://localhost:8080/"
        },
        "id": "_o1Px56SYMGo",
        "outputId": "fdbba7bc-3480-444d-e2d0-1577bf2e9b0d"
      },
      "source": [
        "movies.columns"
      ],
      "execution_count": 101,
      "outputs": [
        {
          "output_type": "execute_result",
          "data": {
            "text/plain": [
              "Index(['title', 'genres'], dtype='object')"
            ]
          },
          "metadata": {},
          "execution_count": 101
        }
      ]
    },
    {
      "cell_type": "markdown",
      "metadata": {
        "id": "99UDm5YBYP9V"
      },
      "source": [
        "# Save Data"
      ]
    },
    {
      "cell_type": "code",
      "metadata": {
        "id": "j1boJMD-YOvB"
      },
      "source": [
        "movies.to_csv('/content/drive/MyDrive/추천 시스템 입문반/data/ml-latest-small/save_test.csv')"
      ],
      "execution_count": 102,
      "outputs": []
    },
    {
      "cell_type": "markdown",
      "metadata": {
        "id": "ufbVKQMjtVmb"
      },
      "source": [
        "# 개봉연도 데이터 정제하기 (데이터 전처리 preprocessing)"
      ]
    },
    {
      "cell_type": "code",
      "metadata": {
        "id": "G3mJxqPxtZky"
      },
      "source": [
        "movies['year'] = movies['title'].str.extract('(\\(\\d\\d\\d\\d\\))')"
      ],
      "execution_count": 103,
      "outputs": []
    },
    {
      "cell_type": "code",
      "metadata": {
        "id": "_TQLgDXZtjA1"
      },
      "source": [
        "movies['year'] = movies['year'].str.extract('(\\d\\d\\d\\d)')"
      ],
      "execution_count": 104,
      "outputs": []
    },
    {
      "cell_type": "code",
      "metadata": {
        "colab": {
          "base_uri": "https://localhost:8080/"
        },
        "id": "vN06ESclt7B2",
        "outputId": "7f1a1714-45fd-456c-8c5f-f470af343e67"
      },
      "source": [
        "movies['year'].unique()"
      ],
      "execution_count": 105,
      "outputs": [
        {
          "output_type": "execute_result",
          "data": {
            "text/plain": [
              "array(['1995', '1994', '1996', '1976', '1992', '1967', '1993', '1964',\n",
              "       '1977', '1965', '1982', '1990', '1991', '1989', '1937', '1940',\n",
              "       '1969', '1981', '1973', '1970', '1955', '1959', '1968', '1988',\n",
              "       '1997', '1972', '1943', '1952', '1951', '1957', '1961', '1958',\n",
              "       '1954', '1934', '1944', '1960', '1963', '1942', '1941', '1953',\n",
              "       '1939', '1950', '1946', '1945', '1938', '1947', '1935', '1936',\n",
              "       '1956', '1949', '1932', '1975', '1974', '1971', '1979', '1987',\n",
              "       '1986', '1980', '1978', '1985', '1966', '1962', '1983', '1984',\n",
              "       '1948', '1933', '1931', '1922', '1998', '1929', '1930', '1927',\n",
              "       '1928', '1999', '2000', '1926', '1919', '1921', '1925', '1923',\n",
              "       '2001', '2002', '2003', '1920', '1915', '1924', '2004', '1916',\n",
              "       '1917', '2005', '2006', '1902', nan, '1903', '2007', '2008',\n",
              "       '2009', '2010', '2011', '2012', '2013', '2014', '2015', '2016',\n",
              "       '2017', '2018', '1908'], dtype=object)"
            ]
          },
          "metadata": {},
          "execution_count": 105
        }
      ]
    },
    {
      "cell_type": "markdown",
      "metadata": {
        "id": "uv10DHv8u0Hl"
      },
      "source": [
        "### 결측값 핸들링하기"
      ]
    },
    {
      "cell_type": "code",
      "metadata": {
        "colab": {
          "base_uri": "https://localhost:8080/",
          "height": 483
        },
        "id": "sZrP8Xu4t7xf",
        "outputId": "a7bc46c2-f018-4615-9708-e422f4682cf8"
      },
      "source": [
        "movies[movies['year'].isnull()]"
      ],
      "execution_count": 106,
      "outputs": [
        {
          "output_type": "execute_result",
          "data": {
            "text/html": [
              "<div>\n",
              "<style scoped>\n",
              "    .dataframe tbody tr th:only-of-type {\n",
              "        vertical-align: middle;\n",
              "    }\n",
              "\n",
              "    .dataframe tbody tr th {\n",
              "        vertical-align: top;\n",
              "    }\n",
              "\n",
              "    .dataframe thead th {\n",
              "        text-align: right;\n",
              "    }\n",
              "</style>\n",
              "<table border=\"1\" class=\"dataframe\">\n",
              "  <thead>\n",
              "    <tr style=\"text-align: right;\">\n",
              "      <th></th>\n",
              "      <th>title</th>\n",
              "      <th>genres</th>\n",
              "      <th>year</th>\n",
              "    </tr>\n",
              "    <tr>\n",
              "      <th>movieId</th>\n",
              "      <th></th>\n",
              "      <th></th>\n",
              "      <th></th>\n",
              "    </tr>\n",
              "  </thead>\n",
              "  <tbody>\n",
              "    <tr>\n",
              "      <th>40697</th>\n",
              "      <td>Babylon 5</td>\n",
              "      <td>Sci-Fi</td>\n",
              "      <td>NaN</td>\n",
              "    </tr>\n",
              "    <tr>\n",
              "      <th>140956</th>\n",
              "      <td>Ready Player One</td>\n",
              "      <td>Action|Sci-Fi|Thriller</td>\n",
              "      <td>NaN</td>\n",
              "    </tr>\n",
              "    <tr>\n",
              "      <th>143410</th>\n",
              "      <td>Hyena Road</td>\n",
              "      <td>(no genres listed)</td>\n",
              "      <td>NaN</td>\n",
              "    </tr>\n",
              "    <tr>\n",
              "      <th>147250</th>\n",
              "      <td>The Adventures of Sherlock Holmes and Doctor W...</td>\n",
              "      <td>(no genres listed)</td>\n",
              "      <td>NaN</td>\n",
              "    </tr>\n",
              "    <tr>\n",
              "      <th>149334</th>\n",
              "      <td>Nocturnal Animals</td>\n",
              "      <td>Drama|Thriller</td>\n",
              "      <td>NaN</td>\n",
              "    </tr>\n",
              "    <tr>\n",
              "      <th>156605</th>\n",
              "      <td>Paterson</td>\n",
              "      <td>(no genres listed)</td>\n",
              "      <td>NaN</td>\n",
              "    </tr>\n",
              "    <tr>\n",
              "      <th>162414</th>\n",
              "      <td>Moonlight</td>\n",
              "      <td>Drama</td>\n",
              "      <td>NaN</td>\n",
              "    </tr>\n",
              "    <tr>\n",
              "      <th>167570</th>\n",
              "      <td>The OA</td>\n",
              "      <td>(no genres listed)</td>\n",
              "      <td>NaN</td>\n",
              "    </tr>\n",
              "    <tr>\n",
              "      <th>171495</th>\n",
              "      <td>Cosmos</td>\n",
              "      <td>(no genres listed)</td>\n",
              "      <td>NaN</td>\n",
              "    </tr>\n",
              "    <tr>\n",
              "      <th>171631</th>\n",
              "      <td>Maria Bamford: Old Baby</td>\n",
              "      <td>(no genres listed)</td>\n",
              "      <td>NaN</td>\n",
              "    </tr>\n",
              "    <tr>\n",
              "      <th>171749</th>\n",
              "      <td>Death Note: Desu nôto (2006–2007)</td>\n",
              "      <td>(no genres listed)</td>\n",
              "      <td>NaN</td>\n",
              "    </tr>\n",
              "    <tr>\n",
              "      <th>171891</th>\n",
              "      <td>Generation Iron 2</td>\n",
              "      <td>(no genres listed)</td>\n",
              "      <td>NaN</td>\n",
              "    </tr>\n",
              "    <tr>\n",
              "      <th>176601</th>\n",
              "      <td>Black Mirror</td>\n",
              "      <td>(no genres listed)</td>\n",
              "      <td>NaN</td>\n",
              "    </tr>\n",
              "  </tbody>\n",
              "</table>\n",
              "</div>"
            ],
            "text/plain": [
              "                                                     title  ... year\n",
              "movieId                                                     ...     \n",
              "40697                                            Babylon 5  ...  NaN\n",
              "140956                                    Ready Player One  ...  NaN\n",
              "143410                                          Hyena Road  ...  NaN\n",
              "147250   The Adventures of Sherlock Holmes and Doctor W...  ...  NaN\n",
              "149334                                   Nocturnal Animals  ...  NaN\n",
              "156605                                            Paterson  ...  NaN\n",
              "162414                                           Moonlight  ...  NaN\n",
              "167570                                              The OA  ...  NaN\n",
              "171495                                              Cosmos  ...  NaN\n",
              "171631                             Maria Bamford: Old Baby  ...  NaN\n",
              "171749                   Death Note: Desu nôto (2006–2007)  ...  NaN\n",
              "171891                                   Generation Iron 2  ...  NaN\n",
              "176601                                        Black Mirror  ...  NaN\n",
              "\n",
              "[13 rows x 3 columns]"
            ]
          },
          "metadata": {},
          "execution_count": 106
        }
      ]
    },
    {
      "cell_type": "code",
      "metadata": {
        "id": "Qqxvs6Bjt8FG"
      },
      "source": [
        "movies['year'] = movies['year'].fillna('2050')"
      ],
      "execution_count": 107,
      "outputs": []
    },
    {
      "cell_type": "code",
      "metadata": {
        "colab": {
          "base_uri": "https://localhost:8080/"
        },
        "id": "gAOR-Fuevb_M",
        "outputId": "9daf9f76-698c-416c-8ae0-f2d9063b9815"
      },
      "source": [
        "movies['year'].unique()"
      ],
      "execution_count": 108,
      "outputs": [
        {
          "output_type": "execute_result",
          "data": {
            "text/plain": [
              "array(['1995', '1994', '1996', '1976', '1992', '1967', '1993', '1964',\n",
              "       '1977', '1965', '1982', '1990', '1991', '1989', '1937', '1940',\n",
              "       '1969', '1981', '1973', '1970', '1955', '1959', '1968', '1988',\n",
              "       '1997', '1972', '1943', '1952', '1951', '1957', '1961', '1958',\n",
              "       '1954', '1934', '1944', '1960', '1963', '1942', '1941', '1953',\n",
              "       '1939', '1950', '1946', '1945', '1938', '1947', '1935', '1936',\n",
              "       '1956', '1949', '1932', '1975', '1974', '1971', '1979', '1987',\n",
              "       '1986', '1980', '1978', '1985', '1966', '1962', '1983', '1984',\n",
              "       '1948', '1933', '1931', '1922', '1998', '1929', '1930', '1927',\n",
              "       '1928', '1999', '2000', '1926', '1919', '1921', '1925', '1923',\n",
              "       '2001', '2002', '2003', '1920', '1915', '1924', '2004', '1916',\n",
              "       '1917', '2005', '2006', '1902', '2050', '1903', '2007', '2008',\n",
              "       '2009', '2010', '2011', '2012', '2013', '2014', '2015', '2016',\n",
              "       '2017', '2018', '1908'], dtype=object)"
            ]
          },
          "metadata": {},
          "execution_count": 108
        }
      ]
    },
    {
      "cell_type": "markdown",
      "metadata": {
        "id": "bCwM7uqavjc3"
      },
      "source": [
        "### 데이터에 가장 많이 출현하는 개봉연도를 찾아주세요."
      ]
    },
    {
      "cell_type": "code",
      "metadata": {
        "colab": {
          "base_uri": "https://localhost:8080/"
        },
        "id": "h3x790hAvbyc",
        "outputId": "2057a888-c77e-40c2-c252-b6715a2349c0"
      },
      "source": [
        "movies['year'].value_counts()"
      ],
      "execution_count": 109,
      "outputs": [
        {
          "output_type": "execute_result",
          "data": {
            "text/plain": [
              "2002    311\n",
              "2006    295\n",
              "2001    294\n",
              "2007    284\n",
              "2000    283\n",
              "       ... \n",
              "1903      1\n",
              "1922      1\n",
              "1917      1\n",
              "1902      1\n",
              "1908      1\n",
              "Name: year, Length: 107, dtype: int64"
            ]
          },
          "metadata": {},
          "execution_count": 109
        }
      ]
    },
    {
      "cell_type": "code",
      "metadata": {
        "id": "wqRLLvzOv2dR"
      },
      "source": [
        "%matplotlib inline\n",
        "import seaborn as sns\n",
        "import matplotlib.pyplot as plt"
      ],
      "execution_count": 110,
      "outputs": []
    },
    {
      "cell_type": "code",
      "metadata": {
        "colab": {
          "base_uri": "https://localhost:8080/",
          "height": 257
        },
        "id": "sakxbd0Rv5kZ",
        "outputId": "d58bd623-d944-4023-f6b6-f4a6af3591e0"
      },
      "source": [
        "plt.figure(figsize=(50, 10))\n",
        "sns.countplot(data=movies, x='year')"
      ],
      "execution_count": 111,
      "outputs": [
        {
          "output_type": "execute_result",
          "data": {
            "text/plain": [
              "<matplotlib.axes._subplots.AxesSubplot at 0x7fa02f002290>"
            ]
          },
          "metadata": {},
          "execution_count": 111
        },
        {
          "output_type": "display_data",
          "data": {
            "image/png": "[encoded data removed]",
            "text/plain": [
              "<Figure size 3600x720 with 1 Axes>"
            ]
          },
          "metadata": {
            "needs_background": "light"
          }
        }
      ]
    },
    {
      "cell_type": "markdown",
      "metadata": {
        "id": "SmKO8pout1ea"
      },
      "source": [
        "### genres 분석"
      ]
    },
    {
      "cell_type": "code",
      "metadata": {
        "id": "a94F9gFJxBFr"
      },
      "source": [
        "genres_list = list(movies['genres'].apply(lambda x: x.split('|')))"
      ],
      "execution_count": 112,
      "outputs": []
    },
    {
      "cell_type": "code",
      "metadata": {
        "colab": {
          "base_uri": "https://localhost:8080/"
        },
        "id": "sfJn5c4BxtyO",
        "outputId": "6ef6a7a0-3781-4205-e93d-f674090910c9"
      },
      "source": [
        "genres_list[:3]"
      ],
      "execution_count": 113,
      "outputs": [
        {
          "output_type": "execute_result",
          "data": {
            "text/plain": [
              "[['Adventure', 'Animation', 'Children', 'Comedy', 'Fantasy'],\n",
              " ['Adventure', 'Children', 'Fantasy'],\n",
              " ['Comedy', 'Romance']]"
            ]
          },
          "metadata": {},
          "execution_count": 113
        }
      ]
    },
    {
      "cell_type": "code",
      "metadata": {
        "id": "KdgboExmxtb5"
      },
      "source": [
        "flat_list = []\n",
        "for sublist in genres_list:\n",
        "  for item in sublist:\n",
        "    flat_list.append(item)"
      ],
      "execution_count": 114,
      "outputs": []
    },
    {
      "cell_type": "code",
      "metadata": {
        "id": "qxkWhRQXxtZP"
      },
      "source": [
        "genres_unique = list(set(flat_list))"
      ],
      "execution_count": 115,
      "outputs": []
    },
    {
      "cell_type": "code",
      "metadata": {
        "colab": {
          "base_uri": "https://localhost:8080/"
        },
        "id": "33LQQh6GyAh-",
        "outputId": "eea84364-6f2a-4e20-96d0-7a829427888d"
      },
      "source": [
        "genres_unique"
      ],
      "execution_count": 116,
      "outputs": [
        {
          "output_type": "execute_result",
          "data": {
            "text/plain": [
              "['Animation',\n",
              " 'Western',\n",
              " 'Drama',\n",
              " 'Comedy',\n",
              " 'Romance',\n",
              " '(no genres listed)',\n",
              " 'Musical',\n",
              " 'Sci-Fi',\n",
              " 'War',\n",
              " 'Action',\n",
              " 'Thriller',\n",
              " 'Crime',\n",
              " 'Fantasy',\n",
              " 'Mystery',\n",
              " 'Film-Noir',\n",
              " 'Documentary',\n",
              " 'Children',\n",
              " 'IMAX',\n",
              " 'Adventure',\n",
              " 'Horror']"
            ]
          },
          "metadata": {},
          "execution_count": 116
        }
      ]
    },
    {
      "cell_type": "code",
      "metadata": {
        "colab": {
          "base_uri": "https://localhost:8080/"
        },
        "id": "ETgcl0VkySvO",
        "outputId": "71435ea5-ed72-4014-9443-6d73a0b5bc58"
      },
      "source": [
        "len(genres_unique)"
      ],
      "execution_count": 117,
      "outputs": [
        {
          "output_type": "execute_result",
          "data": {
            "text/plain": [
              "20"
            ]
          },
          "metadata": {},
          "execution_count": 117
        }
      ]
    },
    {
      "cell_type": "markdown",
      "metadata": {
        "id": "3tx0Pihs2KMO"
      },
      "source": [
        "### 장르 데이터 숫자형으로 변환하기"
      ]
    },
    {
      "cell_type": "code",
      "metadata": {
        "id": "lfOjqp_1ybNU"
      },
      "source": [
        "sample_genre = genres_unique[0]"
      ],
      "execution_count": 118,
      "outputs": []
    },
    {
      "cell_type": "code",
      "metadata": {
        "colab": {
          "base_uri": "https://localhost:8080/",
          "height": 35
        },
        "id": "tDFjUJIv2XvU",
        "outputId": "70b1600e-fd66-4960-c85a-ba8f0c14c0e2"
      },
      "source": [
        "sample_genre"
      ],
      "execution_count": 119,
      "outputs": [
        {
          "output_type": "execute_result",
          "data": {
            "application/vnd.google.colaboratory.intrinsic+json": {
              "type": "string"
            },
            "text/plain": [
              "'Animation'"
            ]
          },
          "metadata": {},
          "execution_count": 119
        }
      ]
    },
    {
      "cell_type": "code",
      "metadata": {
        "id": "OCZ_-yMJ2ci-"
      },
      "source": [
        "movies['Adventure'] = movies['genres'].apply(lambda x : 'Adventure' in x)"
      ],
      "execution_count": 120,
      "outputs": []
    },
    {
      "cell_type": "code",
      "metadata": {
        "id": "mudphiUc2sEr"
      },
      "source": [
        "genres_dummies = movies['genres'].str.get_dummies(sep='|')"
      ],
      "execution_count": 121,
      "outputs": []
    },
    {
      "cell_type": "code",
      "metadata": {
        "id": "zVOFrClz3Ahl"
      },
      "source": [
        "genres_dummies.to_pickle('/content/drive/MyDrive/추천 시스템 입문반/data/ml-latest-small/genres.p')"
      ],
      "execution_count": 122,
      "outputs": []
    },
    {
      "cell_type": "code",
      "metadata": {
        "colab": {
          "base_uri": "https://localhost:8080/",
          "height": 740
        },
        "id": "4Qs3qh143d4L",
        "outputId": "bd3840fc-8c71-4454-c955-428a31e624ae"
      },
      "source": [
        "genres_dummies.corr()"
      ],
      "execution_count": 123,
      "outputs": [
        {
          "output_type": "execute_result",
          "data": {
            "text/html": [
              "<div>\n",
              "<style scoped>\n",
              "    .dataframe tbody tr th:only-of-type {\n",
              "        vertical-align: middle;\n",
              "    }\n",
              "\n",
              "    .dataframe tbody tr th {\n",
              "        vertical-align: top;\n",
              "    }\n",
              "\n",
              "    .dataframe thead th {\n",
              "        text-align: right;\n",
              "    }\n",
              "</style>\n",
              "<table border=\"1\" class=\"dataframe\">\n",
              "  <thead>\n",
              "    <tr style=\"text-align: right;\">\n",
              "      <th></th>\n",
              "      <th>(no genres listed)</th>\n",
              "      <th>Action</th>\n",
              "      <th>Adventure</th>\n",
              "      <th>Animation</th>\n",
              "      <th>Children</th>\n",
              "      <th>Comedy</th>\n",
              "      <th>Crime</th>\n",
              "      <th>Documentary</th>\n",
              "      <th>Drama</th>\n",
              "      <th>Fantasy</th>\n",
              "      <th>Film-Noir</th>\n",
              "      <th>Horror</th>\n",
              "      <th>IMAX</th>\n",
              "      <th>Musical</th>\n",
              "      <th>Mystery</th>\n",
              "      <th>Romance</th>\n",
              "      <th>Sci-Fi</th>\n",
              "      <th>Thriller</th>\n",
              "      <th>War</th>\n",
              "      <th>Western</th>\n",
              "    </tr>\n",
              "  </thead>\n",
              "  <tbody>\n",
              "    <tr>\n",
              "      <th>(no genres listed)</th>\n",
              "      <td>1.000000</td>\n",
              "      <td>-0.028442</td>\n",
              "      <td>-0.022840</td>\n",
              "      <td>-0.015309</td>\n",
              "      <td>-0.016005</td>\n",
              "      <td>-0.046878</td>\n",
              "      <td>-0.022171</td>\n",
              "      <td>-0.012871</td>\n",
              "      <td>-0.053277</td>\n",
              "      <td>-0.017447</td>\n",
              "      <td>-0.005618</td>\n",
              "      <td>-0.019769</td>\n",
              "      <td>-0.007599</td>\n",
              "      <td>-0.011151</td>\n",
              "      <td>-0.014794</td>\n",
              "      <td>-0.026195</td>\n",
              "      <td>-0.019792</td>\n",
              "      <td>-0.029073</td>\n",
              "      <td>-0.011956</td>\n",
              "      <td>-0.007816</td>\n",
              "    </tr>\n",
              "    <tr>\n",
              "      <th>Action</th>\n",
              "      <td>-0.028442</td>\n",
              "      <td>1.000000</td>\n",
              "      <td>0.291949</td>\n",
              "      <td>0.029659</td>\n",
              "      <td>-0.049652</td>\n",
              "      <td>-0.148968</td>\n",
              "      <td>0.154471</td>\n",
              "      <td>-0.099463</td>\n",
              "      <td>-0.152964</td>\n",
              "      <td>0.059931</td>\n",
              "      <td>-0.031649</td>\n",
              "      <td>-0.035443</td>\n",
              "      <td>0.131864</td>\n",
              "      <td>-0.083331</td>\n",
              "      <td>-0.028515</td>\n",
              "      <td>-0.146670</td>\n",
              "      <td>0.233475</td>\n",
              "      <td>0.199042</td>\n",
              "      <td>0.076289</td>\n",
              "      <td>0.021600</td>\n",
              "    </tr>\n",
              "    <tr>\n",
              "      <th>Adventure</th>\n",
              "      <td>-0.022840</td>\n",
              "      <td>0.291949</td>\n",
              "      <td>1.000000</td>\n",
              "      <td>0.211472</td>\n",
              "      <td>0.273931</td>\n",
              "      <td>-0.055215</td>\n",
              "      <td>-0.085988</td>\n",
              "      <td>-0.075111</td>\n",
              "      <td>-0.156327</td>\n",
              "      <td>0.262511</td>\n",
              "      <td>-0.030140</td>\n",
              "      <td>-0.098423</td>\n",
              "      <td>0.143982</td>\n",
              "      <td>-0.005544</td>\n",
              "      <td>-0.048427</td>\n",
              "      <td>-0.072584</td>\n",
              "      <td>0.181797</td>\n",
              "      <td>-0.035942</td>\n",
              "      <td>0.010195</td>\n",
              "      <td>0.036136</td>\n",
              "    </tr>\n",
              "    <tr>\n",
              "      <th>Animation</th>\n",
              "      <td>-0.015309</td>\n",
              "      <td>0.029659</td>\n",
              "      <td>0.211472</td>\n",
              "      <td>1.000000</td>\n",
              "      <td>0.437376</td>\n",
              "      <td>0.029079</td>\n",
              "      <td>-0.069847</td>\n",
              "      <td>-0.050144</td>\n",
              "      <td>-0.160504</td>\n",
              "      <td>0.196895</td>\n",
              "      <td>-0.015555</td>\n",
              "      <td>-0.062464</td>\n",
              "      <td>0.080744</td>\n",
              "      <td>0.111804</td>\n",
              "      <td>-0.030477</td>\n",
              "      <td>-0.061882</td>\n",
              "      <td>0.064093</td>\n",
              "      <td>-0.107822</td>\n",
              "      <td>-0.036990</td>\n",
              "      <td>-0.024378</td>\n",
              "    </tr>\n",
              "    <tr>\n",
              "      <th>Children</th>\n",
              "      <td>-0.016005</td>\n",
              "      <td>-0.049652</td>\n",
              "      <td>0.273931</td>\n",
              "      <td>0.437376</td>\n",
              "      <td>1.000000</td>\n",
              "      <td>0.088701</td>\n",
              "      <td>-0.086442</td>\n",
              "      <td>-0.056859</td>\n",
              "      <td>-0.160742</td>\n",
              "      <td>0.234117</td>\n",
              "      <td>-0.025673</td>\n",
              "      <td>-0.083569</td>\n",
              "      <td>0.062011</td>\n",
              "      <td>0.137072</td>\n",
              "      <td>-0.036449</td>\n",
              "      <td>-0.070189</td>\n",
              "      <td>-0.011910</td>\n",
              "      <td>-0.127716</td>\n",
              "      <td>-0.048341</td>\n",
              "      <td>-0.016890</td>\n",
              "    </tr>\n",
              "    <tr>\n",
              "      <th>Comedy</th>\n",
              "      <td>-0.046878</td>\n",
              "      <td>-0.148968</td>\n",
              "      <td>-0.055215</td>\n",
              "      <td>0.029079</td>\n",
              "      <td>0.088701</td>\n",
              "      <td>1.000000</td>\n",
              "      <td>-0.075282</td>\n",
              "      <td>-0.131657</td>\n",
              "      <td>-0.283472</td>\n",
              "      <td>-0.005708</td>\n",
              "      <td>-0.070710</td>\n",
              "      <td>-0.133382</td>\n",
              "      <td>-0.056627</td>\n",
              "      <td>0.045466</td>\n",
              "      <td>-0.127209</td>\n",
              "      <td>0.153088</td>\n",
              "      <td>-0.132400</td>\n",
              "      <td>-0.286289</td>\n",
              "      <td>-0.095919</td>\n",
              "      <td>-0.039622</td>\n",
              "    </tr>\n",
              "    <tr>\n",
              "      <th>Crime</th>\n",
              "      <td>-0.022171</td>\n",
              "      <td>0.154471</td>\n",
              "      <td>-0.085988</td>\n",
              "      <td>-0.069847</td>\n",
              "      <td>-0.086442</td>\n",
              "      <td>-0.075282</td>\n",
              "      <td>1.000000</td>\n",
              "      <td>-0.073955</td>\n",
              "      <td>0.063005</td>\n",
              "      <td>-0.086254</td>\n",
              "      <td>0.137141</td>\n",
              "      <td>-0.063805</td>\n",
              "      <td>-0.020892</td>\n",
              "      <td>-0.056850</td>\n",
              "      <td>0.124138</td>\n",
              "      <td>-0.097444</td>\n",
              "      <td>-0.095166</td>\n",
              "      <td>0.265196</td>\n",
              "      <td>-0.059585</td>\n",
              "      <td>-0.022997</td>\n",
              "    </tr>\n",
              "    <tr>\n",
              "      <th>Documentary</th>\n",
              "      <td>-0.012871</td>\n",
              "      <td>-0.099463</td>\n",
              "      <td>-0.075111</td>\n",
              "      <td>-0.050144</td>\n",
              "      <td>-0.056859</td>\n",
              "      <td>-0.131657</td>\n",
              "      <td>-0.073955</td>\n",
              "      <td>1.000000</td>\n",
              "      <td>-0.173925</td>\n",
              "      <td>-0.060473</td>\n",
              "      <td>-0.020645</td>\n",
              "      <td>-0.069364</td>\n",
              "      <td>0.003381</td>\n",
              "      <td>-0.005664</td>\n",
              "      <td>-0.050168</td>\n",
              "      <td>-0.093597</td>\n",
              "      <td>-0.072736</td>\n",
              "      <td>-0.104346</td>\n",
              "      <td>-0.013378</td>\n",
              "      <td>-0.024915</td>\n",
              "    </tr>\n",
              "    <tr>\n",
              "      <th>Drama</th>\n",
              "      <td>-0.053277</td>\n",
              "      <td>-0.152964</td>\n",
              "      <td>-0.156327</td>\n",
              "      <td>-0.160504</td>\n",
              "      <td>-0.160742</td>\n",
              "      <td>-0.283472</td>\n",
              "      <td>0.063005</td>\n",
              "      <td>-0.173925</td>\n",
              "      <td>1.000000</td>\n",
              "      <td>-0.106337</td>\n",
              "      <td>0.024256</td>\n",
              "      <td>-0.187391</td>\n",
              "      <td>-0.063293</td>\n",
              "      <td>-0.038022</td>\n",
              "      <td>0.027635</td>\n",
              "      <td>0.122454</td>\n",
              "      <td>-0.158325</td>\n",
              "      <td>-0.008267</td>\n",
              "      <td>0.135067</td>\n",
              "      <td>-0.025060</td>\n",
              "    </tr>\n",
              "    <tr>\n",
              "      <th>Fantasy</th>\n",
              "      <td>-0.017447</td>\n",
              "      <td>0.059931</td>\n",
              "      <td>0.262511</td>\n",
              "      <td>0.196895</td>\n",
              "      <td>0.234117</td>\n",
              "      <td>-0.005708</td>\n",
              "      <td>-0.086254</td>\n",
              "      <td>-0.060473</td>\n",
              "      <td>-0.106337</td>\n",
              "      <td>1.000000</td>\n",
              "      <td>-0.023962</td>\n",
              "      <td>0.012336</td>\n",
              "      <td>0.102962</td>\n",
              "      <td>0.050524</td>\n",
              "      <td>0.014768</td>\n",
              "      <td>-0.000635</td>\n",
              "      <td>0.046094</td>\n",
              "      <td>-0.057807</td>\n",
              "      <td>-0.043959</td>\n",
              "      <td>-0.021441</td>\n",
              "    </tr>\n",
              "    <tr>\n",
              "      <th>Film-Noir</th>\n",
              "      <td>-0.005618</td>\n",
              "      <td>-0.031649</td>\n",
              "      <td>-0.030140</td>\n",
              "      <td>-0.015555</td>\n",
              "      <td>-0.025673</td>\n",
              "      <td>-0.070710</td>\n",
              "      <td>0.137141</td>\n",
              "      <td>-0.020645</td>\n",
              "      <td>0.024256</td>\n",
              "      <td>-0.023962</td>\n",
              "      <td>1.000000</td>\n",
              "      <td>-0.024449</td>\n",
              "      <td>-0.012188</td>\n",
              "      <td>-0.017886</td>\n",
              "      <td>0.087567</td>\n",
              "      <td>-0.018433</td>\n",
              "      <td>-0.020864</td>\n",
              "      <td>0.066406</td>\n",
              "      <td>-0.019177</td>\n",
              "      <td>-0.004130</td>\n",
              "    </tr>\n",
              "    <tr>\n",
              "      <th>Horror</th>\n",
              "      <td>-0.019769</td>\n",
              "      <td>-0.035443</td>\n",
              "      <td>-0.098423</td>\n",
              "      <td>-0.062464</td>\n",
              "      <td>-0.083569</td>\n",
              "      <td>-0.133382</td>\n",
              "      <td>-0.063805</td>\n",
              "      <td>-0.069364</td>\n",
              "      <td>-0.187391</td>\n",
              "      <td>0.012336</td>\n",
              "      <td>-0.024449</td>\n",
              "      <td>1.000000</td>\n",
              "      <td>-0.010442</td>\n",
              "      <td>-0.049802</td>\n",
              "      <td>0.109572</td>\n",
              "      <td>-0.125715</td>\n",
              "      <td>0.123343</td>\n",
              "      <td>0.232052</td>\n",
              "      <td>-0.062206</td>\n",
              "      <td>-0.023065</td>\n",
              "    </tr>\n",
              "    <tr>\n",
              "      <th>IMAX</th>\n",
              "      <td>-0.007599</td>\n",
              "      <td>0.131864</td>\n",
              "      <td>0.143982</td>\n",
              "      <td>0.080744</td>\n",
              "      <td>0.062011</td>\n",
              "      <td>-0.056627</td>\n",
              "      <td>-0.020892</td>\n",
              "      <td>0.003381</td>\n",
              "      <td>-0.063293</td>\n",
              "      <td>0.102962</td>\n",
              "      <td>-0.012188</td>\n",
              "      <td>-0.010442</td>\n",
              "      <td>1.000000</td>\n",
              "      <td>0.011536</td>\n",
              "      <td>-0.011374</td>\n",
              "      <td>-0.037072</td>\n",
              "      <td>0.124563</td>\n",
              "      <td>0.008793</td>\n",
              "      <td>-0.009192</td>\n",
              "      <td>-0.004436</td>\n",
              "    </tr>\n",
              "    <tr>\n",
              "      <th>Musical</th>\n",
              "      <td>-0.011151</td>\n",
              "      <td>-0.083331</td>\n",
              "      <td>-0.005544</td>\n",
              "      <td>0.111804</td>\n",
              "      <td>0.137072</td>\n",
              "      <td>0.045466</td>\n",
              "      <td>-0.056850</td>\n",
              "      <td>-0.005664</td>\n",
              "      <td>-0.038022</td>\n",
              "      <td>0.050524</td>\n",
              "      <td>-0.017886</td>\n",
              "      <td>-0.049802</td>\n",
              "      <td>0.011536</td>\n",
              "      <td>1.000000</td>\n",
              "      <td>-0.035114</td>\n",
              "      <td>0.062921</td>\n",
              "      <td>-0.048010</td>\n",
              "      <td>-0.088286</td>\n",
              "      <td>-0.032252</td>\n",
              "      <td>0.018577</td>\n",
              "    </tr>\n",
              "    <tr>\n",
              "      <th>Mystery</th>\n",
              "      <td>-0.014794</td>\n",
              "      <td>-0.028515</td>\n",
              "      <td>-0.048427</td>\n",
              "      <td>-0.030477</td>\n",
              "      <td>-0.036449</td>\n",
              "      <td>-0.127209</td>\n",
              "      <td>0.124138</td>\n",
              "      <td>-0.050168</td>\n",
              "      <td>0.027635</td>\n",
              "      <td>0.014768</td>\n",
              "      <td>0.087567</td>\n",
              "      <td>0.109572</td>\n",
              "      <td>-0.011374</td>\n",
              "      <td>-0.035114</td>\n",
              "      <td>1.000000</td>\n",
              "      <td>-0.037570</td>\n",
              "      <td>0.016475</td>\n",
              "      <td>0.267443</td>\n",
              "      <td>-0.043759</td>\n",
              "      <td>-0.019570</td>\n",
              "    </tr>\n",
              "    <tr>\n",
              "      <th>Romance</th>\n",
              "      <td>-0.026195</td>\n",
              "      <td>-0.146670</td>\n",
              "      <td>-0.072584</td>\n",
              "      <td>-0.061882</td>\n",
              "      <td>-0.070189</td>\n",
              "      <td>0.153088</td>\n",
              "      <td>-0.097444</td>\n",
              "      <td>-0.093597</td>\n",
              "      <td>0.122454</td>\n",
              "      <td>-0.000635</td>\n",
              "      <td>-0.018433</td>\n",
              "      <td>-0.125715</td>\n",
              "      <td>-0.037072</td>\n",
              "      <td>0.062921</td>\n",
              "      <td>-0.037570</td>\n",
              "      <td>1.000000</td>\n",
              "      <td>-0.101009</td>\n",
              "      <td>-0.137557</td>\n",
              "      <td>-0.012262</td>\n",
              "      <td>-0.015724</td>\n",
              "    </tr>\n",
              "    <tr>\n",
              "      <th>Sci-Fi</th>\n",
              "      <td>-0.019792</td>\n",
              "      <td>0.233475</td>\n",
              "      <td>0.181797</td>\n",
              "      <td>0.064093</td>\n",
              "      <td>-0.011910</td>\n",
              "      <td>-0.132400</td>\n",
              "      <td>-0.095166</td>\n",
              "      <td>-0.072736</td>\n",
              "      <td>-0.158325</td>\n",
              "      <td>0.046094</td>\n",
              "      <td>-0.020864</td>\n",
              "      <td>0.123343</td>\n",
              "      <td>0.124563</td>\n",
              "      <td>-0.048010</td>\n",
              "      <td>0.016475</td>\n",
              "      <td>-0.101009</td>\n",
              "      <td>1.000000</td>\n",
              "      <td>0.096124</td>\n",
              "      <td>-0.046464</td>\n",
              "      <td>-0.023135</td>\n",
              "    </tr>\n",
              "    <tr>\n",
              "      <th>Thriller</th>\n",
              "      <td>-0.029073</td>\n",
              "      <td>0.199042</td>\n",
              "      <td>-0.035942</td>\n",
              "      <td>-0.107822</td>\n",
              "      <td>-0.127716</td>\n",
              "      <td>-0.286289</td>\n",
              "      <td>0.265196</td>\n",
              "      <td>-0.104346</td>\n",
              "      <td>-0.008267</td>\n",
              "      <td>-0.057807</td>\n",
              "      <td>0.066406</td>\n",
              "      <td>0.232052</td>\n",
              "      <td>0.008793</td>\n",
              "      <td>-0.088286</td>\n",
              "      <td>0.267443</td>\n",
              "      <td>-0.137557</td>\n",
              "      <td>0.096124</td>\n",
              "      <td>1.000000</td>\n",
              "      <td>-0.044455</td>\n",
              "      <td>-0.028910</td>\n",
              "    </tr>\n",
              "    <tr>\n",
              "      <th>War</th>\n",
              "      <td>-0.011956</td>\n",
              "      <td>0.076289</td>\n",
              "      <td>0.010195</td>\n",
              "      <td>-0.036990</td>\n",
              "      <td>-0.048341</td>\n",
              "      <td>-0.095919</td>\n",
              "      <td>-0.059585</td>\n",
              "      <td>-0.013378</td>\n",
              "      <td>0.135067</td>\n",
              "      <td>-0.043959</td>\n",
              "      <td>-0.019177</td>\n",
              "      <td>-0.062206</td>\n",
              "      <td>-0.009192</td>\n",
              "      <td>-0.032252</td>\n",
              "      <td>-0.043759</td>\n",
              "      <td>-0.012262</td>\n",
              "      <td>-0.046464</td>\n",
              "      <td>-0.044455</td>\n",
              "      <td>1.000000</td>\n",
              "      <td>0.014063</td>\n",
              "    </tr>\n",
              "    <tr>\n",
              "      <th>Western</th>\n",
              "      <td>-0.007816</td>\n",
              "      <td>0.021600</td>\n",
              "      <td>0.036136</td>\n",
              "      <td>-0.024378</td>\n",
              "      <td>-0.016890</td>\n",
              "      <td>-0.039622</td>\n",
              "      <td>-0.022997</td>\n",
              "      <td>-0.024915</td>\n",
              "      <td>-0.025060</td>\n",
              "      <td>-0.021441</td>\n",
              "      <td>-0.004130</td>\n",
              "      <td>-0.023065</td>\n",
              "      <td>-0.004436</td>\n",
              "      <td>0.018577</td>\n",
              "      <td>-0.019570</td>\n",
              "      <td>-0.015724</td>\n",
              "      <td>-0.023135</td>\n",
              "      <td>-0.028910</td>\n",
              "      <td>0.014063</td>\n",
              "      <td>1.000000</td>\n",
              "    </tr>\n",
              "  </tbody>\n",
              "</table>\n",
              "</div>"
            ],
            "text/plain": [
              "                    (no genres listed)    Action  ...       War   Western\n",
              "(no genres listed)            1.000000 -0.028442  ... -0.011956 -0.007816\n",
              "Action                       -0.028442  1.000000  ...  0.076289  0.021600\n",
              "Adventure                    -0.022840  0.291949  ...  0.010195  0.036136\n",
              "Animation                    -0.015309  0.029659  ... -0.036990 -0.024378\n",
              "Children                     -0.016005 -0.049652  ... -0.048341 -0.016890\n",
              "Comedy                       -0.046878 -0.148968  ... -0.095919 -0.039622\n",
              "Crime                        -0.022171  0.154471  ... -0.059585 -0.022997\n",
              "Documentary                  -0.012871 -0.099463  ... -0.013378 -0.024915\n",
              "Drama                        -0.053277 -0.152964  ...  0.135067 -0.025060\n",
              "Fantasy                      -0.017447  0.059931  ... -0.043959 -0.021441\n",
              "Film-Noir                    -0.005618 -0.031649  ... -0.019177 -0.004130\n",
              "Horror                       -0.019769 -0.035443  ... -0.062206 -0.023065\n",
              "IMAX                         -0.007599  0.131864  ... -0.009192 -0.004436\n",
              "Musical                      -0.011151 -0.083331  ... -0.032252  0.018577\n",
              "Mystery                      -0.014794 -0.028515  ... -0.043759 -0.019570\n",
              "Romance                      -0.026195 -0.146670  ... -0.012262 -0.015724\n",
              "Sci-Fi                       -0.019792  0.233475  ... -0.046464 -0.023135\n",
              "Thriller                     -0.029073  0.199042  ... -0.044455 -0.028910\n",
              "War                          -0.011956  0.076289  ...  1.000000  0.014063\n",
              "Western                      -0.007816  0.021600  ...  0.014063  1.000000\n",
              "\n",
              "[20 rows x 20 columns]"
            ]
          },
          "metadata": {},
          "execution_count": 123
        }
      ]
    },
    {
      "cell_type": "code",
      "metadata": {
        "colab": {
          "base_uri": "https://localhost:8080/",
          "height": 602
        },
        "id": "LjRyUGX04mZ0",
        "outputId": "8fec392f-0c69-4199-d469-b1e386690b74"
      },
      "source": [
        "plt.figure(figsize=(30, 15))\n",
        "sns.heatmap(genres_dummies.corr(), annot=True)"
      ],
      "execution_count": 124,
      "outputs": [
        {
          "output_type": "execute_result",
          "data": {
            "text/plain": [
              "<matplotlib.axes._subplots.AxesSubplot at 0x7fa0223945d0>"
            ]
          },
          "metadata": {},
          "execution_count": 124
        },
        {
          "output_type": "display_data",
          "data": {
            "image/png": "[encoded data removed]",
            "text/plain": [
              "<Figure size 2160x1080 with 2 Axes>"
            ]
          },
          "metadata": {
            "needs_background": "light"
          }
        }
      ]
    },
    {
      "cell_type": "markdown",
      "metadata": {
        "id": "2nPZChvN5jLr"
      },
      "source": [
        "### 기초 통계 rating"
      ]
    },
    {
      "cell_type": "code",
      "metadata": {
        "id": "ONH1MEbE5CKG"
      },
      "source": [
        "ratings = pd.read_csv('/content/drive/MyDrive/추천 시스템 입문반/data/ml-latest-small/ratings.csv')"
      ],
      "execution_count": 125,
      "outputs": []
    },
    {
      "cell_type": "code",
      "metadata": {
        "colab": {
          "base_uri": "https://localhost:8080/",
          "height": 80
        },
        "id": "F8VbAIza5exo",
        "outputId": "e0eb0cb0-38a6-4854-a080-ffdb42959340"
      },
      "source": [
        "ratings.sample()"
      ],
      "execution_count": 126,
      "outputs": [
        {
          "output_type": "execute_result",
          "data": {
            "text/html": [
              "<div>\n",
              "<style scoped>\n",
              "    .dataframe tbody tr th:only-of-type {\n",
              "        vertical-align: middle;\n",
              "    }\n",
              "\n",
              "    .dataframe tbody tr th {\n",
              "        vertical-align: top;\n",
              "    }\n",
              "\n",
              "    .dataframe thead th {\n",
              "        text-align: right;\n",
              "    }\n",
              "</style>\n",
              "<table border=\"1\" class=\"dataframe\">\n",
              "  <thead>\n",
              "    <tr style=\"text-align: right;\">\n",
              "      <th></th>\n",
              "      <th>userId</th>\n",
              "      <th>movieId</th>\n",
              "      <th>rating</th>\n",
              "      <th>timestamp</th>\n",
              "    </tr>\n",
              "  </thead>\n",
              "  <tbody>\n",
              "    <tr>\n",
              "      <th>2144</th>\n",
              "      <td>18</td>\n",
              "      <td>72011</td>\n",
              "      <td>3.5</td>\n",
              "      <td>1455749223</td>\n",
              "    </tr>\n",
              "  </tbody>\n",
              "</table>\n",
              "</div>"
            ],
            "text/plain": [
              "      userId  movieId  rating   timestamp\n",
              "2144      18    72011     3.5  1455749223"
            ]
          },
          "metadata": {},
          "execution_count": 126
        }
      ]
    },
    {
      "cell_type": "code",
      "metadata": {
        "colab": {
          "base_uri": "https://localhost:8080/"
        },
        "id": "CQ9v8M-W5tJw",
        "outputId": "a77037f3-cf13-44eb-911e-f47947719811"
      },
      "source": [
        "ratings.shape"
      ],
      "execution_count": 127,
      "outputs": [
        {
          "output_type": "execute_result",
          "data": {
            "text/plain": [
              "(100836, 4)"
            ]
          },
          "metadata": {},
          "execution_count": 127
        }
      ]
    },
    {
      "cell_type": "code",
      "metadata": {
        "colab": {
          "base_uri": "https://localhost:8080/"
        },
        "id": "LmJttGC95vmZ",
        "outputId": "94b27441-c4ac-4de4-eb30-a69a03cb28ac"
      },
      "source": [
        "print(len(ratings['userId'].unique()))\n",
        "print(len(ratings['movieId'].unique()))"
      ],
      "execution_count": 128,
      "outputs": [
        {
          "output_type": "stream",
          "name": "stdout",
          "text": [
            "610\n",
            "9724\n"
          ]
        }
      ]
    },
    {
      "cell_type": "code",
      "metadata": {
        "colab": {
          "base_uri": "https://localhost:8080/"
        },
        "id": "QONfimNX5_l2",
        "outputId": "17a0c85a-2edd-49d0-a14c-a2067e7d6b3a"
      },
      "source": [
        "ratings['rating'].describe()"
      ],
      "execution_count": 129,
      "outputs": [
        {
          "output_type": "execute_result",
          "data": {
            "text/plain": [
              "count    100836.000000\n",
              "mean          3.501557\n",
              "std           1.042529\n",
              "min           0.500000\n",
              "25%           3.000000\n",
              "50%           3.500000\n",
              "75%           4.000000\n",
              "max           5.000000\n",
              "Name: rating, dtype: float64"
            ]
          },
          "metadata": {},
          "execution_count": 129
        }
      ]
    },
    {
      "cell_type": "code",
      "metadata": {
        "colab": {
          "base_uri": "https://localhost:8080/",
          "height": 283
        },
        "id": "goKKV_eD6MBc",
        "outputId": "48f76ee3-29a9-4262-9ab3-6be666a1ec67"
      },
      "source": [
        "ratings['rating'].hist()"
      ],
      "execution_count": 130,
      "outputs": [
        {
          "output_type": "execute_result",
          "data": {
            "text/plain": [
              "<matplotlib.axes._subplots.AxesSubplot at 0x7fa030c02690>"
            ]
          },
          "metadata": {},
          "execution_count": 130
        },
        {
          "output_type": "display_data",
          "data": {
            "image/png": "[encoded data removed]",
            "text/plain": [
              "<Figure size 432x288 with 1 Axes>"
            ]
          },
          "metadata": {
            "needs_background": "light"
          }
        }
      ]
    },
    {
      "cell_type": "markdown",
      "metadata": {
        "id": "BrcjeN2U6YHn"
      },
      "source": [
        "### 사람들은 평균적으로 몇 개의 영화에 대해서 rating을 남겼는가?"
      ]
    },
    {
      "cell_type": "code",
      "metadata": {
        "id": "M_ixq1A_6dJf"
      },
      "source": [
        "users = ratings.groupby('userId')['movieId'].count()"
      ],
      "execution_count": 131,
      "outputs": []
    },
    {
      "cell_type": "code",
      "metadata": {
        "colab": {
          "base_uri": "https://localhost:8080/"
        },
        "id": "TNTf7rBnNCcC",
        "outputId": "f136f32f-9055-4480-fc3b-b31e31e9f817"
      },
      "source": [
        "users.describe()"
      ],
      "execution_count": 132,
      "outputs": [
        {
          "output_type": "execute_result",
          "data": {
            "text/plain": [
              "count     610.000000\n",
              "mean      165.304918\n",
              "std       269.480584\n",
              "min        20.000000\n",
              "25%        35.000000\n",
              "50%        70.500000\n",
              "75%       168.000000\n",
              "max      2698.000000\n",
              "Name: movieId, dtype: float64"
            ]
          },
          "metadata": {},
          "execution_count": 132
        }
      ]
    },
    {
      "cell_type": "code",
      "metadata": {
        "colab": {
          "base_uri": "https://localhost:8080/",
          "height": 339
        },
        "id": "O5kvK4ycNKT-",
        "outputId": "d2aef8b8-8b01-4c6d-a3ad-8b7ac711d5b7"
      },
      "source": [
        "sns.distplot(users.values)"
      ],
      "execution_count": 133,
      "outputs": [
        {
          "output_type": "stream",
          "name": "stderr",
          "text": [
            "/usr/local/lib/python3.7/dist-packages/seaborn/distributions.py:2619: FutureWarning: `distplot` is a deprecated function and will be removed in a future version. Please adapt your code to use either `displot` (a figure-level function with similar flexibility) or `histplot` (an axes-level function for histograms).\n",
            "  warnings.warn(msg, FutureWarning)\n"
          ]
        },
        {
          "output_type": "execute_result",
          "data": {
            "text/plain": [
              "<matplotlib.axes._subplots.AxesSubplot at 0x7fa02f7db290>"
            ]
          },
          "metadata": {},
          "execution_count": 133
        },
        {
          "output_type": "display_data",
          "data": {
            "image/png": "[encoded data removed]",
            "text/plain": [
              "<Figure size 432x288 with 1 Axes>"
            ]
          },
          "metadata": {
            "needs_background": "light"
          }
        }
      ]
    },
    {
      "cell_type": "markdown",
      "metadata": {
        "id": "HeHn4bOCNvgV"
      },
      "source": [
        "### 사람들이 많이 보는 영화는?\n",
        "\n"
      ]
    },
    {
      "cell_type": "code",
      "metadata": {
        "colab": {
          "base_uri": "https://localhost:8080/"
        },
        "id": "H6uxmZqlNrV4",
        "outputId": "8a54a1bb-490f-4e91-d44d-23b9bd352190"
      },
      "source": [
        "films = ratings.groupby('movieId')['userId'].count()\n",
        "films[:5]"
      ],
      "execution_count": 134,
      "outputs": [
        {
          "output_type": "execute_result",
          "data": {
            "text/plain": [
              "movieId\n",
              "1    215\n",
              "2    110\n",
              "3     52\n",
              "4      7\n",
              "5     49\n",
              "Name: userId, dtype: int64"
            ]
          },
          "metadata": {},
          "execution_count": 134
        }
      ]
    },
    {
      "cell_type": "code",
      "metadata": {
        "colab": {
          "base_uri": "https://localhost:8080/"
        },
        "id": "xABH-U6hN8RJ",
        "outputId": "d44a642b-18f9-4908-fef3-b47201e0b68d"
      },
      "source": [
        "films.describe()"
      ],
      "execution_count": 135,
      "outputs": [
        {
          "output_type": "execute_result",
          "data": {
            "text/plain": [
              "count    9724.000000\n",
              "mean       10.369807\n",
              "std        22.401005\n",
              "min         1.000000\n",
              "25%         1.000000\n",
              "50%         3.000000\n",
              "75%         9.000000\n",
              "max       329.000000\n",
              "Name: userId, dtype: float64"
            ]
          },
          "metadata": {},
          "execution_count": 135
        }
      ]
    },
    {
      "cell_type": "code",
      "metadata": {
        "colab": {
          "base_uri": "https://localhost:8080/",
          "height": 387
        },
        "id": "mb7XXVIiOALt",
        "outputId": "3387b598-8439-4468-e323-1aa09022b522"
      },
      "source": [
        "sns.displot(films.values)"
      ],
      "execution_count": 136,
      "outputs": [
        {
          "output_type": "execute_result",
          "data": {
            "text/plain": [
              "<seaborn.axisgrid.FacetGrid at 0x7fa030bfed90>"
            ]
          },
          "metadata": {},
          "execution_count": 136
        },
        {
          "output_type": "display_data",
          "data": {
            "image/png": "[encoded data removed]",
            "text/plain": [
              "<Figure size 360x360 with 1 Axes>"
            ]
          },
          "metadata": {
            "needs_background": "light"
          }
        }
      ]
    },
    {
      "cell_type": "markdown",
      "metadata": {
        "id": "RheMvJMrOh7g"
      },
      "source": [
        "### 유저별 평점 패턴 분석"
      ]
    },
    {
      "cell_type": "code",
      "metadata": {
        "colab": {
          "base_uri": "https://localhost:8080/"
        },
        "id": "8H1IXLK5Oxfg",
        "outputId": "498598e3-3d86-415f-db22-4b4c731c1a07"
      },
      "source": [
        "films.sort_values(ascending=False)[:5]"
      ],
      "execution_count": 137,
      "outputs": [
        {
          "output_type": "execute_result",
          "data": {
            "text/plain": [
              "movieId\n",
              "356     329\n",
              "318     317\n",
              "296     307\n",
              "593     279\n",
              "2571    278\n",
              "Name: userId, dtype: int64"
            ]
          },
          "metadata": {},
          "execution_count": 137
        }
      ]
    },
    {
      "cell_type": "code",
      "metadata": {
        "id": "AUFNQgeDO0s1"
      },
      "source": [
        "movies = pd.read_csv('/content/drive/MyDrive/추천 시스템 입문반/data/ml-latest-small/movies.csv', index_col='movieId')"
      ],
      "execution_count": 142,
      "outputs": []
    },
    {
      "cell_type": "code",
      "metadata": {
        "colab": {
          "base_uri": "https://localhost:8080/",
          "height": 204
        },
        "id": "su5WjYJoPAWT",
        "outputId": "bd8240ff-8cb8-4f08-988c-ef46bdbc4c81"
      },
      "source": [
        "movies.loc[[365,318,452,1425]]"
      ],
      "execution_count": 146,
      "outputs": [
        {
          "output_type": "execute_result",
          "data": {
            "text/html": [
              "<div>\n",
              "<style scoped>\n",
              "    .dataframe tbody tr th:only-of-type {\n",
              "        vertical-align: middle;\n",
              "    }\n",
              "\n",
              "    .dataframe tbody tr th {\n",
              "        vertical-align: top;\n",
              "    }\n",
              "\n",
              "    .dataframe thead th {\n",
              "        text-align: right;\n",
              "    }\n",
              "</style>\n",
              "<table border=\"1\" class=\"dataframe\">\n",
              "  <thead>\n",
              "    <tr style=\"text-align: right;\">\n",
              "      <th></th>\n",
              "      <th>title</th>\n",
              "      <th>genres</th>\n",
              "    </tr>\n",
              "    <tr>\n",
              "      <th>movieId</th>\n",
              "      <th></th>\n",
              "      <th></th>\n",
              "    </tr>\n",
              "  </thead>\n",
              "  <tbody>\n",
              "    <tr>\n",
              "      <th>365</th>\n",
              "      <td>Little Buddha (1993)</td>\n",
              "      <td>Drama</td>\n",
              "    </tr>\n",
              "    <tr>\n",
              "      <th>318</th>\n",
              "      <td>Shawshank Redemption, The (1994)</td>\n",
              "      <td>Crime|Drama</td>\n",
              "    </tr>\n",
              "    <tr>\n",
              "      <th>452</th>\n",
              "      <td>Widows' Peak (1994)</td>\n",
              "      <td>Drama</td>\n",
              "    </tr>\n",
              "    <tr>\n",
              "      <th>1425</th>\n",
              "      <td>Fierce Creatures (1997)</td>\n",
              "      <td>Comedy</td>\n",
              "    </tr>\n",
              "  </tbody>\n",
              "</table>\n",
              "</div>"
            ],
            "text/plain": [
              "                                    title       genres\n",
              "movieId                                               \n",
              "365                  Little Buddha (1993)        Drama\n",
              "318      Shawshank Redemption, The (1994)  Crime|Drama\n",
              "452                   Widows' Peak (1994)        Drama\n",
              "1425              Fierce Creatures (1997)       Comedy"
            ]
          },
          "metadata": {},
          "execution_count": 146
        }
      ]
    },
    {
      "cell_type": "markdown",
      "metadata": {
        "id": "PO6bDZdVQ6qn"
      },
      "source": [
        "### 겨울왕국 평점보기"
      ]
    },
    {
      "cell_type": "code",
      "metadata": {
        "colab": {
          "base_uri": "https://localhost:8080/"
        },
        "id": "HzqV8pDAQ6D4",
        "outputId": "892afb27-a59f-4293-fa75-e6df2ba87e1c"
      },
      "source": [
        "movies.loc[106696]"
      ],
      "execution_count": 148,
      "outputs": [
        {
          "output_type": "execute_result",
          "data": {
            "text/plain": [
              "title                                         Frozen (2013)\n",
              "genres    Adventure|Animation|Comedy|Fantasy|Musical|Rom...\n",
              "Name: 106696, dtype: object"
            ]
          },
          "metadata": {},
          "execution_count": 148
        }
      ]
    },
    {
      "cell_type": "code",
      "metadata": {
        "id": "x3F6JMSCRIn4"
      },
      "source": [
        "frozen = ratings[ratings['movieId'] == 106696]"
      ],
      "execution_count": 149,
      "outputs": []
    },
    {
      "cell_type": "code",
      "metadata": {
        "colab": {
          "base_uri": "https://localhost:8080/"
        },
        "id": "Qv_JWqdLRN_k",
        "outputId": "481e9628-8cdc-4e66-c694-2d2e9010bec1"
      },
      "source": [
        "len(frozen)"
      ],
      "execution_count": 150,
      "outputs": [
        {
          "output_type": "execute_result",
          "data": {
            "text/plain": [
              "29"
            ]
          },
          "metadata": {},
          "execution_count": 150
        }
      ]
    },
    {
      "cell_type": "code",
      "metadata": {
        "colab": {
          "base_uri": "https://localhost:8080/",
          "height": 283
        },
        "id": "HPy-hpw-Ral_",
        "outputId": "024d2d59-725f-4b29-cd5a-82d327b05015"
      },
      "source": [
        "frozen['rating'].hist()"
      ],
      "execution_count": 152,
      "outputs": [
        {
          "output_type": "execute_result",
          "data": {
            "text/plain": [
              "<matplotlib.axes._subplots.AxesSubplot at 0x7fa0214f8c10>"
            ]
          },
          "metadata": {},
          "execution_count": 152
        },
        {
          "output_type": "display_data",
          "data": {
            "image/png": "[encoded data removed]",
            "text/plain": [
              "<Figure size 432x288 with 1 Axes>"
            ]
          },
          "metadata": {
            "needs_background": "light"
          }
        }
      ]
    },
    {
      "cell_type": "code",
      "metadata": {
        "colab": {
          "base_uri": "https://localhost:8080/",
          "height": 948
        },
        "id": "v2yTdg7LRjzQ",
        "outputId": "045692bd-3b43-486e-a03a-a70212027453"
      },
      "source": [
        "frozen"
      ],
      "execution_count": 155,
      "outputs": [
        {
          "output_type": "execute_result",
          "data": {
            "text/html": [
              "<div>\n",
              "<style scoped>\n",
              "    .dataframe tbody tr th:only-of-type {\n",
              "        vertical-align: middle;\n",
              "    }\n",
              "\n",
              "    .dataframe tbody tr th {\n",
              "        vertical-align: top;\n",
              "    }\n",
              "\n",
              "    .dataframe thead th {\n",
              "        text-align: right;\n",
              "    }\n",
              "</style>\n",
              "<table border=\"1\" class=\"dataframe\">\n",
              "  <thead>\n",
              "    <tr style=\"text-align: right;\">\n",
              "      <th></th>\n",
              "      <th>userId</th>\n",
              "      <th>movieId</th>\n",
              "      <th>rating</th>\n",
              "      <th>timestamp</th>\n",
              "    </tr>\n",
              "  </thead>\n",
              "  <tbody>\n",
              "    <tr>\n",
              "      <th>1245</th>\n",
              "      <td>10</td>\n",
              "      <td>106696</td>\n",
              "      <td>4.5</td>\n",
              "      <td>1455306204</td>\n",
              "    </tr>\n",
              "    <tr>\n",
              "      <th>3572</th>\n",
              "      <td>21</td>\n",
              "      <td>106696</td>\n",
              "      <td>4.0</td>\n",
              "      <td>1403460685</td>\n",
              "    </tr>\n",
              "    <tr>\n",
              "      <th>9418</th>\n",
              "      <td>63</td>\n",
              "      <td>106696</td>\n",
              "      <td>5.0</td>\n",
              "      <td>1443461176</td>\n",
              "    </tr>\n",
              "    <tr>\n",
              "      <th>16798</th>\n",
              "      <td>105</td>\n",
              "      <td>106696</td>\n",
              "      <td>3.5</td>\n",
              "      <td>1447563589</td>\n",
              "    </tr>\n",
              "    <tr>\n",
              "      <th>21852</th>\n",
              "      <td>141</td>\n",
              "      <td>106696</td>\n",
              "      <td>3.0</td>\n",
              "      <td>1513129988</td>\n",
              "    </tr>\n",
              "    <tr>\n",
              "      <th>21967</th>\n",
              "      <td>143</td>\n",
              "      <td>106696</td>\n",
              "      <td>4.0</td>\n",
              "      <td>1444768621</td>\n",
              "    </tr>\n",
              "    <tr>\n",
              "      <th>22567</th>\n",
              "      <td>153</td>\n",
              "      <td>106696</td>\n",
              "      <td>2.5</td>\n",
              "      <td>1525552648</td>\n",
              "    </tr>\n",
              "    <tr>\n",
              "      <th>23219</th>\n",
              "      <td>159</td>\n",
              "      <td>106696</td>\n",
              "      <td>3.0</td>\n",
              "      <td>1508640298</td>\n",
              "    </tr>\n",
              "    <tr>\n",
              "      <th>25783</th>\n",
              "      <td>177</td>\n",
              "      <td>106696</td>\n",
              "      <td>5.0</td>\n",
              "      <td>1435529765</td>\n",
              "    </tr>\n",
              "    <tr>\n",
              "      <th>35769</th>\n",
              "      <td>241</td>\n",
              "      <td>106696</td>\n",
              "      <td>4.0</td>\n",
              "      <td>1447540037</td>\n",
              "    </tr>\n",
              "    <tr>\n",
              "      <th>37282</th>\n",
              "      <td>249</td>\n",
              "      <td>106696</td>\n",
              "      <td>3.5</td>\n",
              "      <td>1396222978</td>\n",
              "    </tr>\n",
              "    <tr>\n",
              "      <th>37490</th>\n",
              "      <td>252</td>\n",
              "      <td>106696</td>\n",
              "      <td>4.5</td>\n",
              "      <td>1498284778</td>\n",
              "    </tr>\n",
              "    <tr>\n",
              "      <th>43914</th>\n",
              "      <td>292</td>\n",
              "      <td>106696</td>\n",
              "      <td>4.0</td>\n",
              "      <td>1421974328</td>\n",
              "    </tr>\n",
              "    <tr>\n",
              "      <th>46526</th>\n",
              "      <td>305</td>\n",
              "      <td>106696</td>\n",
              "      <td>4.0</td>\n",
              "      <td>1460303575</td>\n",
              "    </tr>\n",
              "    <tr>\n",
              "      <th>46686</th>\n",
              "      <td>306</td>\n",
              "      <td>106696</td>\n",
              "      <td>4.0</td>\n",
              "      <td>1518380586</td>\n",
              "    </tr>\n",
              "    <tr>\n",
              "      <th>49886</th>\n",
              "      <td>319</td>\n",
              "      <td>106696</td>\n",
              "      <td>4.5</td>\n",
              "      <td>1461351802</td>\n",
              "    </tr>\n",
              "    <tr>\n",
              "      <th>51345</th>\n",
              "      <td>331</td>\n",
              "      <td>106696</td>\n",
              "      <td>3.5</td>\n",
              "      <td>1537158456</td>\n",
              "    </tr>\n",
              "    <tr>\n",
              "      <th>53458</th>\n",
              "      <td>352</td>\n",
              "      <td>106696</td>\n",
              "      <td>2.0</td>\n",
              "      <td>1493674468</td>\n",
              "    </tr>\n",
              "    <tr>\n",
              "      <th>58821</th>\n",
              "      <td>382</td>\n",
              "      <td>106696</td>\n",
              "      <td>3.5</td>\n",
              "      <td>1515161464</td>\n",
              "    </tr>\n",
              "    <tr>\n",
              "      <th>77938</th>\n",
              "      <td>483</td>\n",
              "      <td>106696</td>\n",
              "      <td>4.0</td>\n",
              "      <td>1415575259</td>\n",
              "    </tr>\n",
              "    <tr>\n",
              "      <th>79732</th>\n",
              "      <td>495</td>\n",
              "      <td>106696</td>\n",
              "      <td>5.0</td>\n",
              "      <td>1458635883</td>\n",
              "    </tr>\n",
              "    <tr>\n",
              "      <th>80811</th>\n",
              "      <td>509</td>\n",
              "      <td>106696</td>\n",
              "      <td>4.5</td>\n",
              "      <td>1444255616</td>\n",
              "    </tr>\n",
              "    <tr>\n",
              "      <th>81910</th>\n",
              "      <td>517</td>\n",
              "      <td>106696</td>\n",
              "      <td>1.0</td>\n",
              "      <td>1487955739</td>\n",
              "    </tr>\n",
              "    <tr>\n",
              "      <th>83064</th>\n",
              "      <td>525</td>\n",
              "      <td>106696</td>\n",
              "      <td>3.5</td>\n",
              "      <td>1476476140</td>\n",
              "    </tr>\n",
              "    <tr>\n",
              "      <th>84033</th>\n",
              "      <td>534</td>\n",
              "      <td>106696</td>\n",
              "      <td>3.0</td>\n",
              "      <td>1459787998</td>\n",
              "    </tr>\n",
              "    <tr>\n",
              "      <th>88023</th>\n",
              "      <td>567</td>\n",
              "      <td>106696</td>\n",
              "      <td>0.5</td>\n",
              "      <td>1525289874</td>\n",
              "    </tr>\n",
              "    <tr>\n",
              "      <th>89900</th>\n",
              "      <td>583</td>\n",
              "      <td>106696</td>\n",
              "      <td>3.0</td>\n",
              "      <td>1481474420</td>\n",
              "    </tr>\n",
              "    <tr>\n",
              "      <th>90206</th>\n",
              "      <td>586</td>\n",
              "      <td>106696</td>\n",
              "      <td>5.0</td>\n",
              "      <td>1529899352</td>\n",
              "    </tr>\n",
              "    <tr>\n",
              "      <th>92080</th>\n",
              "      <td>596</td>\n",
              "      <td>106696</td>\n",
              "      <td>3.5</td>\n",
              "      <td>1535827238</td>\n",
              "    </tr>\n",
              "  </tbody>\n",
              "</table>\n",
              "</div>"
            ],
            "text/plain": [
              "       userId  movieId  rating   timestamp\n",
              "1245       10   106696     4.5  1455306204\n",
              "3572       21   106696     4.0  1403460685\n",
              "9418       63   106696     5.0  1443461176\n",
              "16798     105   106696     3.5  1447563589\n",
              "21852     141   106696     3.0  1513129988\n",
              "21967     143   106696     4.0  1444768621\n",
              "22567     153   106696     2.5  1525552648\n",
              "23219     159   106696     3.0  1508640298\n",
              "25783     177   106696     5.0  1435529765\n",
              "35769     241   106696     4.0  1447540037\n",
              "37282     249   106696     3.5  1396222978\n",
              "37490     252   106696     4.5  1498284778\n",
              "43914     292   106696     4.0  1421974328\n",
              "46526     305   106696     4.0  1460303575\n",
              "46686     306   106696     4.0  1518380586\n",
              "49886     319   106696     4.5  1461351802\n",
              "51345     331   106696     3.5  1537158456\n",
              "53458     352   106696     2.0  1493674468\n",
              "58821     382   106696     3.5  1515161464\n",
              "77938     483   106696     4.0  1415575259\n",
              "79732     495   106696     5.0  1458635883\n",
              "80811     509   106696     4.5  1444255616\n",
              "81910     517   106696     1.0  1487955739\n",
              "83064     525   106696     3.5  1476476140\n",
              "84033     534   106696     3.0  1459787998\n",
              "88023     567   106696     0.5  1525289874\n",
              "89900     583   106696     3.0  1481474420\n",
              "90206     586   106696     5.0  1529899352\n",
              "92080     596   106696     3.5  1535827238"
            ]
          },
          "metadata": {},
          "execution_count": 155
        }
      ]
    },
    {
      "cell_type": "code",
      "metadata": {
        "colab": {
          "base_uri": "https://localhost:8080/",
          "height": 283
        },
        "id": "JeWAJE_SR5ix",
        "outputId": "0ce31eee-edf2-46df-f654-f97f48b3aa0e"
      },
      "source": [
        "ratings.loc[ratings['userId'] == 567, 'rating'].hist()"
      ],
      "execution_count": 157,
      "outputs": [
        {
          "output_type": "execute_result",
          "data": {
            "text/plain": [
              "<matplotlib.axes._subplots.AxesSubplot at 0x7fa021473150>"
            ]
          },
          "metadata": {},
          "execution_count": 157
        },
        {
          "output_type": "display_data",
          "data": {
            "image/png": "[encoded data removed]",
            "text/plain": [
              "<Figure size 432x288 with 1 Axes>"
            ]
          },
          "metadata": {
            "needs_background": "light"
          }
        }
      ]
    },
    {
      "cell_type": "code",
      "metadata": {
        "colab": {
          "base_uri": "https://localhost:8080/",
          "height": 283
        },
        "id": "sinc1pPeSLrs",
        "outputId": "8b677ca0-2fc5-4f0f-fe49-27cd19af8ae0"
      },
      "source": [
        "ratings['rating'].hist()"
      ],
      "execution_count": 158,
      "outputs": [
        {
          "output_type": "execute_result",
          "data": {
            "text/plain": [
              "<matplotlib.axes._subplots.AxesSubplot at 0x7fa022bfbd50>"
            ]
          },
          "metadata": {},
          "execution_count": 158
        },
        {
          "output_type": "display_data",
          "data": {
            "image/png": "[encoded data removed]",
            "text/plain": [
              "<Figure size 432x288 with 1 Axes>"
            ]
          },
          "metadata": {
            "needs_background": "light"
          }
        }
      ]
    },
    {
      "cell_type": "markdown",
      "metadata": {
        "id": "C_qRiCUFSeHg"
      },
      "source": [
        "### timestamp 컬럼 처리"
      ]
    },
    {
      "cell_type": "code",
      "metadata": {
        "id": "W9wNjS35SlTw"
      },
      "source": [
        "from datetime import datetime"
      ],
      "execution_count": 162,
      "outputs": []
    },
    {
      "cell_type": "code",
      "metadata": {
        "colab": {
          "base_uri": "https://localhost:8080/"
        },
        "id": "OjJozUxESp3r",
        "outputId": "faad191e-a0a9-4435-a7db-a6e4a756046e"
      },
      "source": [
        "datetime.fromtimestamp(1537158405)"
      ],
      "execution_count": 163,
      "outputs": [
        {
          "output_type": "execute_result",
          "data": {
            "text/plain": [
              "datetime.datetime(2018, 9, 17, 4, 26, 45)"
            ]
          },
          "metadata": {},
          "execution_count": 163
        }
      ]
    },
    {
      "cell_type": "code",
      "metadata": {
        "id": "fyFti40xS7FJ"
      },
      "source": [
        "ratings['timestamp'] = ratings['timestamp'].apply(lambda x : datetime.fromtimestamp(x))"
      ],
      "execution_count": 166,
      "outputs": []
    },
    {
      "cell_type": "code",
      "metadata": {
        "colab": {
          "base_uri": "https://localhost:8080/",
          "height": 204
        },
        "id": "IvOtwZ8DTLzt",
        "outputId": "d11f55cf-6636-4c91-8b76-856b8b4a06a9"
      },
      "source": [
        "ratings.head()"
      ],
      "execution_count": 167,
      "outputs": [
        {
          "output_type": "execute_result",
          "data": {
            "text/html": [
              "<div>\n",
              "<style scoped>\n",
              "    .dataframe tbody tr th:only-of-type {\n",
              "        vertical-align: middle;\n",
              "    }\n",
              "\n",
              "    .dataframe tbody tr th {\n",
              "        vertical-align: top;\n",
              "    }\n",
              "\n",
              "    .dataframe thead th {\n",
              "        text-align: right;\n",
              "    }\n",
              "</style>\n",
              "<table border=\"1\" class=\"dataframe\">\n",
              "  <thead>\n",
              "    <tr style=\"text-align: right;\">\n",
              "      <th></th>\n",
              "      <th>userId</th>\n",
              "      <th>movieId</th>\n",
              "      <th>rating</th>\n",
              "      <th>timestamp</th>\n",
              "    </tr>\n",
              "  </thead>\n",
              "  <tbody>\n",
              "    <tr>\n",
              "      <th>0</th>\n",
              "      <td>1</td>\n",
              "      <td>1</td>\n",
              "      <td>4.0</td>\n",
              "      <td>2000-07-30 18:45:03</td>\n",
              "    </tr>\n",
              "    <tr>\n",
              "      <th>1</th>\n",
              "      <td>1</td>\n",
              "      <td>3</td>\n",
              "      <td>4.0</td>\n",
              "      <td>2000-07-30 18:20:47</td>\n",
              "    </tr>\n",
              "    <tr>\n",
              "      <th>2</th>\n",
              "      <td>1</td>\n",
              "      <td>6</td>\n",
              "      <td>4.0</td>\n",
              "      <td>2000-07-30 18:37:04</td>\n",
              "    </tr>\n",
              "    <tr>\n",
              "      <th>3</th>\n",
              "      <td>1</td>\n",
              "      <td>47</td>\n",
              "      <td>5.0</td>\n",
              "      <td>2000-07-30 19:03:35</td>\n",
              "    </tr>\n",
              "    <tr>\n",
              "      <th>4</th>\n",
              "      <td>1</td>\n",
              "      <td>50</td>\n",
              "      <td>5.0</td>\n",
              "      <td>2000-07-30 18:48:51</td>\n",
              "    </tr>\n",
              "  </tbody>\n",
              "</table>\n",
              "</div>"
            ],
            "text/plain": [
              "   userId  movieId  rating           timestamp\n",
              "0       1        1     4.0 2000-07-30 18:45:03\n",
              "1       1        3     4.0 2000-07-30 18:20:47\n",
              "2       1        6     4.0 2000-07-30 18:37:04\n",
              "3       1       47     5.0 2000-07-30 19:03:35\n",
              "4       1       50     5.0 2000-07-30 18:48:51"
            ]
          },
          "metadata": {},
          "execution_count": 167
        }
      ]
    },
    {
      "cell_type": "code",
      "metadata": {
        "id": "FDN9UXIETjyR"
      },
      "source": [
        "ratings.to_pickle('/content/drive/MyDrive/추천 시스템 입문반/data/ml-latest-small/ratings_updated.p')"
      ],
      "execution_count": 168,
      "outputs": []
    }
  ]
}